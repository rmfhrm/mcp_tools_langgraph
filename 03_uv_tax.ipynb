{
 "cells": [
  {
   "cell_type": "code",
   "execution_count": 27,
   "id": "da754afa",
   "metadata": {},
   "outputs": [
    {
     "data": {
      "text/plain": [
       "True"
      ]
     },
     "execution_count": 27,
     "metadata": {},
     "output_type": "execute_result"
    }
   ],
   "source": [
    "from dotenv import load_dotenv\n",
    "load_dotenv()"
   ]
  },
  {
   "cell_type": "code",
   "execution_count": 28,
   "id": "bee9715a",
   "metadata": {},
   "outputs": [],
   "source": [
    "from typing_extensions import List, TypedDict\n",
    "from langchain_core.documents import Document\n",
    "from langgraph.graph import StateGraph\n",
    "\n",
    "class AgentState(TypedDict):\n",
    "    query: str\n",
    "    context: List\n",
    "    answer: str"
   ]
  },
  {
   "cell_type": "code",
   "execution_count": 29,
   "id": "2441b34b",
   "metadata": {},
   "outputs": [],
   "source": [
    "from langchain_community.tools import TavilySearchResults\n",
    "\n",
    "tavily_search_tool = TavilySearchResults(\n",
    "    max_results=3,\n",
    "    search_engine=\"advanced\",\n",
    "    include_answers=True,\n",
    "    include_raw_content=True,\n",
    "    include_images=True,\n",
    ")"
   ]
  },
  {
   "cell_type": "code",
   "execution_count": 30,
   "id": "898e4747",
   "metadata": {},
   "outputs": [],
   "source": [
    "def web_search(state: AgentState) -> AgentState:\n",
    "    \"\"\" \n",
    "    주어진 state를 기반으로 웹 검색을 수행합니다.\n",
    "    \n",
    "    Args:\n",
    "        state (AgentState): 사용자의 질문을 포함한 에이전트의 현재 state.\n",
    "        \n",
    "    Returns:\n",
    "        AgentState: 웹 검색 결과가 추가된 state를 반환합니다.    \n",
    "    \"\"\"\n",
    "    query = state[\"query\"]\n",
    "    results = tavily_search_tool.invoke(query)\n",
    "    \n",
    "    return {'context': results}"
   ]
  },
  {
   "cell_type": "code",
   "execution_count": 31,
   "id": "27288e27",
   "metadata": {},
   "outputs": [
    {
     "name": "stderr",
     "output_type": "stream",
     "text": [
      "c:\\workspace\\uv_work\\.venv\\Lib\\site-packages\\langsmith\\client.py:256: LangSmithMissingAPIKeyWarning: API key must be provided when using hosted LangSmith API\n",
      "  warnings.warn(\n"
     ]
    }
   ],
   "source": [
    "from langchain import hub\n",
    "from langchain_openai import ChatOpenAI\n",
    "from langchain_core.output_parsers import StrOutputParser\n",
    "\n",
    "generate_prompt = hub.pull('rlm/rag-prompt')\n",
    "generate_llm = ChatOpenAI(model='gpt-4o')\n",
    "\n",
    "def web_generate(state: AgentState) -> AgentState:\n",
    "    \"\"\"\n",
    "    주어진 문맥과 질문을 기반으로 답변을 생성합니다.\n",
    "    Args:\n",
    "        state (AgentState): 문맥과 질문을 포함한 에이전트의 현재 state.\n",
    "        \n",
    "    Returns:\n",
    "        AgentState: 생성된 답변을 포함한 state를 반환합니다.      \n",
    "    \"\"\"\n",
    "    context = state['context']\n",
    "    query = state['query']\n",
    "    \n",
    "    rag_chain = generate_prompt | generate_llm | StrOutputParser()\n",
    "    response = rag_chain.invoke({\"context\": context, \"question\": query})\n",
    "    \n",
    "    return {'answer': response}"
   ]
  },
  {
   "cell_type": "code",
   "execution_count": 32,
   "id": "60579932",
   "metadata": {},
   "outputs": [],
   "source": [
    "from langchain_openai import ChatOpenAI\n",
    "from langchain_core.output_parsers import StrOutputParser\n",
    "\n",
    "basic_llm = ChatOpenAI(model='gpt-4o-mini')\n",
    "\n",
    "def basic_generate(state: AgentState) -> AgentState:\n",
    "    \"\"\"\n",
    "    사용자의 질문에 기반하여 기본 답변을 생성합니다.\n",
    "    \n",
    "    Args:\n",
    "        state (AgentState): 사용자의 질문을 포함한 에이전트의 현재 state.\n",
    "        \n",
    "    Returns:\n",
    "        AgentState: 생성된 답변을 포함한 state를 반환합니다.      \n",
    "    \"\"\"\n",
    "    query = state['query']\n",
    "    \n",
    "    llm_response = basic_llm.invoke(query)\n",
    "    \n",
    "    return {'answer': llm_response}"
   ]
  },
  {
   "cell_type": "code",
   "execution_count": 33,
   "id": "218d1e7e",
   "metadata": {},
   "outputs": [],
   "source": [
    "from langchain_core.prompts import ChatPromptTemplate\n",
    "from pydantic import BaseModel, Field\n",
    "from typing import Literal\n",
    "\n",
    "class Route(BaseModel):\n",
    "    target: Literal['vector_store','llm','web_search'] = Field(\n",
    "        description=\"The target for the query  to answer\"\n",
    "    )\n",
    "\n",
    "router_system_prompt = \"\"\"\n",
    "You are an expert at routing a user's question to 'vector_store', 'llm', or 'web_search'.\n",
    "'vector_store' contains information about income tax up to December 2024.\n",
    "if you think the question is simple enough use 'llm'\n",
    "if you think you need to search the web to answer the question use 'web_search'\n",
    "\"\"\"\n",
    "\n",
    "router_prompt = ChatPromptTemplate.from_messages(\n",
    "    [\n",
    "        ('system', router_system_prompt),\n",
    "        ('human', \"{query}\")\n",
    "    ]\n",
    ")\n",
    "\n",
    "router_llm = ChatOpenAI(model=\"gpt-4o-mini\")\n",
    "structed_router_llm = router_llm.with_structured_output(Route)\n",
    "\n",
    "def router(state: AgentState) -> Literal['vector_store', 'llm', 'web_search']:\n",
    "    \"\"\"\n",
    "    사용자의 질문을 기반으로 적절한 경로를 결정합니다.\n",
    "    \n",
    "    Args:\n",
    "        state (AgentState): 사용자의 질문을 포함한 에이전트의 현재 state.\n",
    "        \n",
    "    Returns:\n",
    "        Literal['vector_store', 'llm', 'web_search']: \n",
    "        질문을 처리하기 위한 적절한 경로를 나타내는 문자열을 반환한다.      \n",
    "    \"\"\"\n",
    "    query = state['query']\n",
    "    \n",
    "    router_chain = router_prompt | structed_router_llm\n",
    "    \n",
    "    route = router_chain.invoke({\"query\": query})\n",
    "    \n",
    "    print('route: ', route.target)\n",
    "\n",
    "    return route.target"
   ]
  },
  {
   "cell_type": "code",
   "execution_count": 34,
   "id": "80fd33fc",
   "metadata": {},
   "outputs": [
    {
     "data": {
      "text/plain": [
       "<langgraph.graph.state.StateGraph at 0x11fb8ff1510>"
      ]
     },
     "execution_count": 34,
     "metadata": {},
     "output_type": "execute_result"
    }
   ],
   "source": [
    "from income_tax_agent import graph as income_tax_subgraph\n",
    "\n",
    "graph_builder = StateGraph(AgentState)\n",
    "\n",
    "graph_builder.add_node(\"income_tax_agent\", income_tax_subgraph)\n",
    "graph_builder.add_node(\"web_search\", web_search)\n",
    "graph_builder.add_node(\"web_generate\", web_generate)\n",
    "graph_builder.add_node(\"basic_generate\", basic_generate)"
   ]
  },
  {
   "cell_type": "code",
   "execution_count": 35,
   "id": "8d14125c",
   "metadata": {},
   "outputs": [
    {
     "data": {
      "text/plain": [
       "<langgraph.graph.state.StateGraph at 0x11fb8ff1510>"
      ]
     },
     "execution_count": 35,
     "metadata": {},
     "output_type": "execute_result"
    }
   ],
   "source": [
    "from langgraph.graph import START, END\n",
    "\n",
    "graph_builder.add_conditional_edges(\n",
    "    START,\n",
    "    router,\n",
    "    {\n",
    "        \"vector_store\": \"income_tax_agent\",\n",
    "        \"llm\": \"basic_generate\",\n",
    "        \"web_search\": \"web_search\"\n",
    "    }\n",
    ")\n",
    "\n",
    "graph_builder.add_edge('web_search', 'web_generate')\n",
    "graph_builder.add_edge('basic_generate',END)\n",
    "graph_builder.add_edge('web_generate', END)\n",
    "graph_builder.add_edge('income_tax_agent', END)"
   ]
  },
  {
   "cell_type": "code",
   "execution_count": 36,
   "id": "567fbff6",
   "metadata": {},
   "outputs": [],
   "source": [
    "graph = graph_builder.compile()"
   ]
  },
  {
   "cell_type": "code",
   "execution_count": 37,
   "id": "d0a7144a",
   "metadata": {},
   "outputs": [
    {
     "data": {
      "image/png": "[encoded data removed]",
      "text/plain": [
       "<IPython.core.display.Image object>"
      ]
     },
     "metadata": {},
     "output_type": "display_data"
    }
   ],
   "source": [
    "from IPython.display import Image, display\n",
    "\n",
    "display(Image(graph.get_graph().draw_mermaid_png()))"
   ]
  },
  {
   "cell_type": "markdown",
   "id": "bbb949e5",
   "metadata": {},
   "source": [
    "### test 여러버전"
   ]
  },
  {
   "cell_type": "code",
   "execution_count": 38,
   "id": "e1e3b2f0",
   "metadata": {},
   "outputs": [
    {
     "name": "stdout",
     "output_type": "stream",
     "text": [
      "route:  llm\n"
     ]
    },
    {
     "data": {
      "text/plain": [
       "{'query': '대한민국 수도는 어디인가요?',\n",
       " 'answer': AIMessage(content='대한민국의 수도는 서울입니다.', additional_kwargs={'refusal': None}, response_metadata={'token_usage': {'completion_tokens': 8, 'prompt_tokens': 15, 'total_tokens': 23, 'completion_tokens_details': {'accepted_prediction_tokens': 0, 'audio_tokens': 0, 'reasoning_tokens': 0, 'rejected_prediction_tokens': 0}, 'prompt_tokens_details': {'audio_tokens': 0, 'cached_tokens': 0}}, 'model_name': 'gpt-4o-mini-2024-07-18', 'system_fingerprint': 'fp_e665f7564b', 'finish_reason': 'stop', 'logprobs': None}, id='run--8b3e7100-41ff-4ae0-8bf4-3aee19d04ee3-0', usage_metadata={'input_tokens': 15, 'output_tokens': 8, 'total_tokens': 23, 'input_token_details': {'audio': 0, 'cache_read': 0}, 'output_token_details': {'audio': 0, 'reasoning': 0}})}"
      ]
     },
     "execution_count": 38,
     "metadata": {},
     "output_type": "execute_result"
    }
   ],
   "source": [
    "# normal 질문\n",
    "initial_state = {'query': '대한민국 수도는 어디인가요?'}\n",
    "graph.invoke(initial_state)"
   ]
  },
  {
   "cell_type": "code",
   "execution_count": 41,
   "id": "f1eb1774",
   "metadata": {},
   "outputs": [
    {
     "name": "stdout",
     "output_type": "stream",
     "text": [
      "route:  web_search\n"
     ]
    },
    {
     "data": {
      "text/plain": [
       "{'query': '문화정당역 맛집을 추천해 주세요?',\n",
       " 'context': \"HTTPError('401 Client Error: Unauthorized for url: https://api.tavily.com/search')\",\n",
       " 'answer': '죄송하지만, 현재 문화정당역의 맛집 정보를 제공할 수 없습니다.'}"
      ]
     },
     "execution_count": 41,
     "metadata": {},
     "output_type": "execute_result"
    }
   ],
   "source": [
    "initial_state = {'query': '문화정당역 맛집을 추천해 주세요?'}\n",
    "graph.invoke(initial_state)"
   ]
  },
  {
   "cell_type": "code",
   "execution_count": 42,
   "id": "eb982146",
   "metadata": {},
   "outputs": [
    {
     "name": "stdout",
     "output_type": "stream",
     "text": [
      "route:  vector_store\n",
      "거짓말:  hallucinated\n",
      "거짓말:  hallucinated\n",
      "거짓말:  not hallucinated\n",
      "유용성: helpful\n"
     ]
    },
    {
     "data": {
      "text/plain": [
       "{'query': '연봉 5천만원 거주자의 소득세는 얼마인가요?',\n",
       " 'context': [Document(metadata={'source': './tax.docx'}, page_content='제55조(세율) ①거주자의 종합소득에 대한 소득세는 해당 연도의 종합소득과세표준에 다음의 세율을 적용하여 계산한 금액(이하 “종합소득산출세액”이라 한다)을 그 세액으로 한다. <개정 2014. 1. 1., 2016. 12. 20., 2017. 12. 19., 2020. 12. 29., 2022. 12. 31.>\\n\\n| 종합소득 과세표준          | 세율                                         |\\n\\n|-------------------|--------------------------------------------|\\n\\n| 1,400만원 이하     | 과세표준의 6퍼센트                             |\\n\\n| 1,400만원 초과     5,000만원 이하     | 84만원 + (1,400만원을 초과하는 금액의 15퍼센트)  |\\n\\n| 5,000만원 초과   8,800만원 이하     | 624만원 + (5,000만원을 초과하는 금액의 24퍼센트) |\\n\\n| 8,800만원 초과 1억5천만원 이하    | 3,706만원 + (8,800만원을 초과하는 금액의 35퍼센트)|\\n\\n| 1억5천만원 초과 3억원 이하         | 3,706만원 + (1억5천만원을 초과하는 금액의 38퍼센트)|\\n\\n| 3억원 초과    5억원 이하         | 9,406만원 + (3억원을 초과하는 금액의 38퍼센트)   |\\n\\n| 5억원 초과      10억원 이하        | 1억 7,406만원 + (5억원을 초과하는 금액의 42퍼센트)|\\n\\n| 10억원 초과        | 3억 8,406만원 + (10억원을 초과하는 금액의 45퍼센트)|\\n\\n\\n\\n\\n\\n② 거주자의 퇴직소득에 대한 소득세는 다음 각 호의 순서에 따라 계산한 금액(이하 “퇴직소득 산출세액”이라 한다)으로 한다.<개정 2013. 1. 1., 2014. 12. 23.>\\n\\n1. 해당 과세기간의 퇴직소득과세표준에 제1항의 세율을 적용하여 계산한 금액\\n\\n2. 제1호의 금액을 12로 나눈 금액에 근속연수를 곱한 금액\\n\\n3. 삭제<2014. 12. 23.>\\n\\n[전문개정 2009. 12. 31.]\\n\\n\\n\\n제2관 세액공제 <개정 2009. 12. 31.>\\n\\n\\n\\n제56조(배당세액공제) ① 거주자의 종합소득금액에 제17조제3항 각 호 외의 부분 단서가 적용되는 배당소득금액이 합산되어 있는 경우에는 같은 항 각 호 외의 부분 단서에 따라 해당 과세기간의 총수입금액에 더한 금액에 해당하는 금액을 종합소득 산출세액에서 공제한다. <개정 2009. 12. 31.>\\n\\n② 제1항에 따른 공제를 “배당세액공제”라 한다.<개정 2009. 12. 31.>\\n\\n③ 삭제<2003. 12. 30.>\\n\\n④ 제1항을 적용할 때 배당세액공제의 대상이 되는 배당소득금액은 제14조제2항의 종합소득과세표준에 포함된 배당소득금액으로서 이자소득등의 종합과세기준금액을 초과하는 것으로 한다.<개정 2009. 12. 31.>\\n\\n⑤ 삭제<2006. 12. 30.>'),\n",
       "  Document(metadata={'source': './tax.docx'}, page_content='제47조(근로소득공제) ①근로소득이 있는 거주자에 대해서는 해당 과세기간에 받는 총급여액에서 다음의 금액을 공제한다. 다만, 공제액이 2천만원을 초과하는 경우에는 2천만원을 공제한다. <개정 2012. 1. 1., 2014. 1. 1., 2019. 12. 31.>\\n\\n\\n\\n② 일용근로자에 대한 공제액은 제1항에도 불구하고 1일 15만원으로 한다.<개정 2018. 12. 31.>\\n\\n③ 근로소득이 있는 거주자의 해당 과세기간의 총급여액이 제1항 또는 제2항의 공제액에 미달하는 경우에는 그 총급여액을 공제액으로 한다.\\n\\n④ 제1항부터 제3항까지의 규정에 따른 공제를 “근로소득공제”라 한다.\\n\\n⑤ 제1항의 경우에 2인 이상으로부터 근로소득을 받는 사람(일용근로자는 제외한다)에 대하여는 그 근로소득의 합계액을 총급여액으로 하여 제1항에 따라 계산한 근로소득공제액을 총급여액에서 공제한다.<개정 2010. 12. 27.>\\n\\n⑥ 삭제<2010. 12. 27.>\\n\\n[전문개정 2009. 12. 31.]\\n\\n\\n\\n제47조의2(연금소득공제) ①연금소득이 있는 거주자에 대해서는 해당 과세기간에 받은 총연금액(분리과세연금소득은 제외하며, 이하 이 항에서 같다)에서 다음 표에 규정된 금액을 공제한다. 다만, 공제액이 900만원을 초과하는 경우에는 900만원을 공제한다. <개정 2013. 1. 1.>\\n\\n\\n\\n② 제1항에 따른 공제를 “연금소득공제”라 한다.\\n\\n[전문개정 2009. 12. 31.]\\n\\n\\n\\n제48조(퇴직소득공제) ① 퇴직소득이 있는 거주자에 대해서는 해당 과세기간의 퇴직소득금액에서 제1호의 구분에 따른 금액을 공제하고, 그 금액을 근속연수(1년 미만의 기간이 있는 경우에는 이를 1년으로 보며, 제22조제1항제1호의 경우에는 대통령령으로 정하는 방법에 따라 계산한 연수를 말한다. 이하 같다)로 나누고 12를 곱한 후의 금액(이하 이 항에서 “환산급여”라 한다)에서 제2호의 구분에 따른 금액을 공제한다. <개정 2014. 12. 23., 2022. 12. 31.>\\n\\n1. 근속연수에 따라 정한 다음의 금액\\n\\n\\n\\n2. 환산급여에 따라 정한 다음의 금액\\n\\n\\n\\n② 해당 과세기간의 퇴직소득금액이 제1항제1호에 따른 공제금액에 미달하는 경우에는 그 퇴직소득금액을 공제액으로 한다.<개정 2014. 12. 23.>\\n\\n③ 제1항과 제2항에 따른 공제를 “퇴직소득공제”라 한다.\\n\\n④ 퇴직소득공제의 계산 방법에 관하여 필요한 사항은 대통령령으로 정한다.<개정 2013. 1. 1.>\\n\\n⑤ 삭제<2013. 1. 1.>\\n\\n[전문개정 2009. 12. 31.]\\n\\n\\n\\n제49조 삭제 <2006. 12. 30.>\\n\\n\\n\\n제6관 종합소득공제 <개정 2009. 12. 31.>\\n\\n\\n\\n제50조(기본공제) ① 종합소득이 있는 거주자(자연인만 해당한다)에 대해서는 다음 각 호의 어느 하나에 해당하는 사람의 수에 1명당 연 150만원을 곱하여 계산한 금액을 그 거주자의 해당 과세기간의 종합소득금액에서 공제한다. <개정 2015. 12. 15.>\\n\\n1. 해당 거주자'),\n",
       "  Document(metadata={'source': './tax.docx'}, page_content='3. 「자본시장과 금융투자업에 관한 법률」 제251조제1항에 따른 집합투자업겸영보험회사의 특별계정\\n\\n③ 비거주자의 소득은 제119조에 따라 구분한다.\\n\\n[전문개정 2009. 12. 31.]\\n\\n\\n\\n제4조(소득의 구분) ① 거주자의 소득은 다음 각 호와 같이 구분한다. <개정 2013. 1. 1., 2020. 12. 29.>\\n\\n1. 종합소득\\n\\n\\u3000이 법에 따라 과세되는 모든 소득에서 제2호, 제2호의2 및 제3호에 따른 소득을 제외한 소득으로서 다음 각 목의 소득을 합산한 것\\n\\n가. 이자소득\\n\\n나. 배당소득\\n\\n다. 사업소득\\n\\n라. 근로소득\\n\\n마. 연금소득\\n\\n바. 기타소득\\n\\n2. 퇴직소득\\n\\n2의2. 금융투자소득\\n\\n3. 양도소득\\n\\n② 제1항에 따른 소득을 구분할 때 다음 각 호의 신탁을 제외한 신탁의 이익은 「신탁법」 제2조에 따라 수탁자에게 이전되거나 그 밖에 처분된 재산권에서 발생하는 소득의 내용별로 구분한다.<개정 2011. 7. 25., 2020. 12. 29., 2022. 12. 31.>\\n\\n1. 「법인세법」 제5조제2항에 따라 신탁재산에 귀속되는 소득에 대하여 그 신탁의 수탁자가 법인세를 납부하는 신탁\\n\\n2. 「자본시장과 금융투자업에 관한 법률」 제9조제18항제1호에 따른 투자신탁. 다만, 2024년 12월 31일까지는 이 법 제17조제1항제5호에 따른 집합투자기구로 한정한다.\\n\\n3. 「자본시장과 금융투자업에 관한 법률」 제251조제1항에 따른 집합투자업겸영보험회사의 특별계정\\n\\n③ 비거주자의 소득은 제119조에 따라 구분한다.\\n\\n[전문개정 2009. 12. 31.]\\n\\n[시행일: 2025. 1. 1.] 제4조제1항제1호, 제4조제1항제2호의2\\n\\n\\n\\n제5조(과세기간) ① 소득세의 과세기간은 1월 1일부터 12월 31일까지 1년으로 한다.\\n\\n② 거주자가 사망한 경우의 과세기간은 1월 1일부터 사망한 날까지로 한다.\\n\\n③ 거주자가 주소 또는 거소를 국외로 이전(이하 “출국”이라 한다)하여 비거주자가 되는 경우의 과세기간은 1월 1일부터 출국한 날까지로 한다.\\n\\n[전문개정 2009. 12. 31.]\\n\\n\\n\\n제6조(납세지) ① 거주자의 소득세 납세지는 그 주소지로 한다. 다만, 주소지가 없는 경우에는 그 거소지로 한다.\\n\\n② 비거주자의 소득세 납세지는 제120조에 따른 국내사업장(이하 “국내사업장”이라 한다)의 소재지로 한다. 다만, 국내사업장이 둘 이상 있는 경우에는 주된 국내사업장의 소재지로 하고, 국내사업장이 없는 경우에는 국내원천소득이 발생하는 장소로 한다.<개정 2013. 1. 1.>\\n\\n③ 납세지가 불분명한 경우에는 대통령령으로 정하는 바에 따라 납세지를 결정한다.\\n\\n[전문개정 2009. 12. 31.]\\n\\n\\n\\n제7조(원천징수 등의 경우의 납세지) ① 원천징수하는 소득세의 납세지는 다음 각 호에 따른다. <개정 2012. 1. 1., 2023. 12. 31.>')],\n",
       " 'answer': AIMessage(content='연봉 5천만원 거주자의 소득세는 624만원입니다. 이는 과세표준 5천만원을 초과하지 않으므로, \"84만원 + (1,400만원을 초과하는 금액의 15퍼센트)\"에 따라 계산됩니다.', additional_kwargs={'refusal': None}, response_metadata={'token_usage': {'completion_tokens': 62, 'prompt_tokens': 3061, 'total_tokens': 3123, 'completion_tokens_details': {'accepted_prediction_tokens': 0, 'audio_tokens': 0, 'reasoning_tokens': 0, 'rejected_prediction_tokens': 0}, 'prompt_tokens_details': {'audio_tokens': 0, 'cached_tokens': 2944}}, 'model_name': 'gpt-4o-2024-08-06', 'system_fingerprint': 'fp_1827dd0c55', 'finish_reason': 'stop', 'logprobs': None}, id='run--d7312ff3-bf30-4891-bf7b-5b853198e2b4-0', usage_metadata={'input_tokens': 3061, 'output_tokens': 62, 'total_tokens': 3123, 'input_token_details': {'audio': 0, 'cache_read': 2944}, 'output_token_details': {'audio': 0, 'reasoning': 0}})}"
      ]
     },
     "execution_count": 42,
     "metadata": {},
     "output_type": "execute_result"
    }
   ],
   "source": [
    "initial_state = {'query': '연봉 5천만원 거주자의 소득세는 얼마인가요?'}\n",
    "graph.invoke(initial_state)"
   ]
  },
  {
   "cell_type": "code",
   "execution_count": null,
   "id": "4b03e51b",
   "metadata": {},
   "outputs": [],
   "source": []
  }
 ],
 "metadata": {
  "kernelspec": {
   "display_name": "uv-work",
   "language": "python",
   "name": "python3"
  },
  "language_info": {
   "codemirror_mode": {
    "name": "ipython",
    "version": 3
   },
   "file_extension": ".py",
   "mimetype": "text/x-python",
   "name": "python",
   "nbconvert_exporter": "python",
   "pygments_lexer": "ipython3",
   "version": "3.11.9"
  }
 },
 "nbformat": 4,
 "nbformat_minor": 5
}
