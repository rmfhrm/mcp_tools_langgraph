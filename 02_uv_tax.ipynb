{
 "cells": [
  {
   "cell_type": "code",
   "execution_count": 83,
   "id": "39d8239f",
   "metadata": {},
   "outputs": [
    {
     "data": {
      "text/plain": [
       "True"
      ]
     },
     "execution_count": 83,
     "metadata": {},
     "output_type": "execute_result"
    }
   ],
   "source": [
    "from dotenv import load_dotenv\n",
    "load_dotenv()"
   ]
  },
  {
   "cell_type": "code",
   "execution_count": 84,
   "id": "76828a64",
   "metadata": {},
   "outputs": [],
   "source": [
    "from langchain_openai import OpenAIEmbeddings\n",
    "\n",
    "embedding = OpenAIEmbeddings(model='text-embedding-3-large')"
   ]
  },
  {
   "cell_type": "markdown",
   "id": "09561e5a",
   "metadata": {},
   "source": [
    "### 처음 데이터 생성 시에만 확인하기 //// 데이터 로딩"
   ]
  },
  {
   "cell_type": "code",
   "execution_count": 85,
   "id": "d2c49cda",
   "metadata": {},
   "outputs": [],
   "source": [
    "from langchain_chroma import Chroma\n",
    "\n",
    "# 처음 데이터 생성 시에만\n",
    "# vector_store = Chroma.from_documents(\n",
    "#     documents=document_list,\n",
    "#     embedding=embedding,\n",
    "#     collection_name='chroma-tax',\n",
    "#     persist_directory='./chroma-tax'\n",
    "# )\n",
    "\n",
    "## 데이터 로딩 \n",
    "vector_store = Chroma(\n",
    "    collection_name='chroma-tax',\n",
    "    embedding_function=embedding,\n",
    "    persist_directory='./chroma-tax'\n",
    ")\n",
    "\n",
    "retriever = vector_store.as_retriever(search_kwargs={'k':3})"
   ]
  },
  {
   "cell_type": "code",
   "execution_count": 86,
   "id": "bd9d5d15",
   "metadata": {},
   "outputs": [],
   "source": [
    "from typing_extensions import List, TypedDict\n",
    "from langchain_core.documents import Document\n",
    "from langgraph.graph import StateGraph\n",
    "\n",
    "class AgentState(TypedDict):\n",
    "    query: str\n",
    "    context: List[Document]\n",
    "    answer: str"
   ]
  },
  {
   "cell_type": "code",
   "execution_count": 87,
   "id": "62ed8edf",
   "metadata": {},
   "outputs": [],
   "source": [
    "def retrieve(state: AgentState) -> AgentState:\n",
    "    \"\"\" \n",
    "    사용자의 질문에 기반하여 벡터 스토어에서 관련 문서를 검색합니다.\n",
    "    Args:\n",
    "        state (AgentState): 사용자의 질문을 포함한 에이전트의 현재 state\n",
    "    Returns:\n",
    "        AgentState: 검색된 문서가 추가된 state를 반환합니다.        \n",
    "    \"\"\"\n",
    "\n",
    "    query = state['query']\n",
    "    docs = retriever.invoke(query)\n",
    "    return {'context': docs}"
   ]
  },
  {
   "cell_type": "code",
   "execution_count": 88,
   "id": "155210be",
   "metadata": {},
   "outputs": [],
   "source": [
    "from langchain_openai import ChatOpenAI\n",
    "\n",
    "llm = ChatOpenAI(model='gpt-4o')"
   ]
  },
  {
   "cell_type": "markdown",
   "id": "6ccc6e1b",
   "metadata": {},
   "source": [
    "### 내가 해본 방법"
   ]
  },
  {
   "cell_type": "code",
   "execution_count": 68,
   "id": "ecffbf5f",
   "metadata": {},
   "outputs": [],
   "source": [
    "# 검색\n",
    "def retrieve(state: AgentState) -> AgentState:\n",
    "    query = state[\"query\"]\n",
    "    docs = retriever.get_relevant_documents(query)\n",
    "    return {**state, \"context\": docs}\n",
    "\n",
    "# 답변 생성\n",
    "def generate(state: AgentState) -> AgentState:\n",
    "    context_texts = \"\\n\".join([d.page_content for d in state[\"context\"]])\n",
    "    answer = llm.invoke(f\"질문: {state['query']}\\n\\n참고 문맥:\\n{context_texts}\")\n",
    "    return {**state, \"answer\": answer.content}\n",
    "\n",
    "# 질문 리라이트\n",
    "def rewrite(state: AgentState) -> AgentState:\n",
    "    new_query = llm.invoke(f\"다음 질문을 더 검색 친화적으로 다시 써줘: {state['query']}\")\n",
    "    return {**state, \"query\": new_query.content}"
   ]
  },
  {
   "cell_type": "code",
   "execution_count": 49,
   "id": "4950ceb2",
   "metadata": {},
   "outputs": [],
   "source": [
    "from langgraph.graph import StateGraph, START, END\n",
    "\n",
    "builder = StateGraph(AgentState)\n",
    "\n",
    "# 노드 등록\n",
    "builder.add_node(\"retrieve\", retrieve)\n",
    "builder.add_node(\"generate\", generate)\n",
    "builder.add_node(\"rewrite\", rewrite)\n",
    "\n",
    "# 분기 연결\n",
    "builder.add_edge(START, \"retrieve\")\n",
    "\n",
    "# retrieve → generate or rewrite (조건 분기)\n",
    "def branch_after_retrieve(state: AgentState):\n",
    "    if len(state[\"context\"]) > 0:   \n",
    "        return \"generate\"\n",
    "    else:                           \n",
    "        return \"rewrite\"\n",
    "\n",
    "builder.add_conditional_edges(\"retrieve\", branch_after_retrieve,\n",
    "                              {\"generate\": \"generate\", \"rewrite\": \"rewrite\"})\n",
    "\n",
    "# generate → END\n",
    "builder.add_edge(\"generate\", END)\n",
    "\n",
    "# rewrite → retrieve (루프)\n",
    "builder.add_edge(\"rewrite\", \"retrieve\")\n",
    "\n",
    "graph = builder.compile()\n"
   ]
  },
  {
   "cell_type": "code",
   "execution_count": 50,
   "id": "cdcd2ef1",
   "metadata": {},
   "outputs": [
    {
     "data": {
      "image/png": "[encoded data removed]",
      "text/plain": [
       "<IPython.core.display.Image object>"
      ]
     },
     "metadata": {},
     "output_type": "display_data"
    }
   ],
   "source": [
    "from IPython.display import Image, display\n",
    "\n",
    "display(Image(graph.get_graph().draw_mermaid_png()))"
   ]
  },
  {
   "cell_type": "code",
   "execution_count": 51,
   "id": "5ae1eee4",
   "metadata": {},
   "outputs": [
    {
     "name": "stdout",
     "output_type": "stream",
     "text": [
      "연봉 5천만원인 직장인의 소득세를 계산하기 위해서는 기본적으로 근로소득세의 계산 과정을 이해해야 합니다. 한국의 근로소득세는 총급여에서 일정 금액을 공제한 후, 남은 과세표준에 대해 세율을 적용하여 계산됩니다. 다음은 일반적인 계산 과정입니다:\n",
      "\n",
      "1. **총급여**: 연봉 5천만원\n",
      "\n",
      "2. **근로소득공제**: 총급여에서 차감할 금액으로, 급여에 따라 공제액이 다릅니다. 2023년 기준으로, 연봉 5천만원의 경우 근로소득공제는 약 1100만원 정도가 됩니다.\n",
      "\n",
      "3. **과세표준**: 총급여에서 근로소득공제를 차감한 금액입니다.\n",
      "   \\[\n",
      "   \\text{과세표준} = 50,000,000 - 11,000,000 = 39,000,000 \\text{원}\n",
      "   \\]\n",
      "\n",
      "4. **세율 적용**: 소득세율은 과세표준 구간에 따라 다르게 적용됩니다. 2023년 기준으로 과세표준 12,000,000원 초과 46,000,000원 이하 구간에 해당하는 세율은 15%입니다.\n",
      "   \\[\n",
      "   \\text{소득세} = 39,000,000 \\times 0.15 - \\text{누진공제액}\n",
      "   \\]\n",
      "   여기서, 누진공제액은 해당 구간에 대해 약 1,080,000원입니다.\n",
      "\n",
      "5. **계산 결과**:\n",
      "   \\[\n",
      "   \\text{소득세} = (39,000,000 \\times 0.15) - 1,080,000 = 4,770,000 \\text{원}\n",
      "   \\]\n",
      "\n",
      "6. **세액공제**: 근로소득세액공제 등을 통해 최종적으로 납부할 세액이 줄어들 수 있습니다. 이 공제는 공제대상에 따라 다르므로 정확한 계산을 위해서는 개인별 공제 항목을 확인해야 합니다. 예를 들어, 일반적인 근로소득세액공제는 55만원입니다.\n",
      "\n",
      "따라서, 최종적으로 납부할 소득세는 약 4,220,000원이 됩니다. 그러나 이는 개인별 상황에 따라 다를 수 있으므로, 정확한 계산을 위해서는 국세청의 소득세 계산기를 활용하거나 세무 전문가와 상담하는 것이 좋습니다.\n"
     ]
    }
   ],
   "source": [
    "inputs = {\"query\": \"연봉 5천만원 직장인의 소득세는? \", \"context\": [], \"answer\": \"\"}\n",
    "result = graph.invoke(inputs)\n",
    "print(result[\"answer\"])"
   ]
  },
  {
   "cell_type": "markdown",
   "id": "c320ea8f",
   "metadata": {},
   "source": [
    "### 강사님 버전"
   ]
  },
  {
   "cell_type": "code",
   "execution_count": 103,
   "id": "1264e726",
   "metadata": {},
   "outputs": [
    {
     "name": "stderr",
     "output_type": "stream",
     "text": [
      "c:\\workspace\\uv_work\\.venv\\Lib\\site-packages\\langsmith\\client.py:256: LangSmithMissingAPIKeyWarning: API key must be provided when using hosted LangSmith API\n",
      "  warnings.warn(\n"
     ]
    }
   ],
   "source": [
    "from langchain import hub\n",
    "\n",
    "generate_prompt = hub.pull('rlm/rag-prompt')\n",
    "\n",
    "def generate(state: AgentState) -> AgentState:\n",
    "    \"\"\" \n",
    "    주어진 state를 기반으로 RAG 체인을 사용하여 응답을 생성합니다.\n",
    "    Args:\n",
    "        state (AgentState): 사용자의 질문과 문맥을 포함한 에이전트의 현재 state\n",
    "    Returns:\n",
    "        AgentState: 생성된 응답을 포함하는 state를 반환합니다.        \n",
    "    \"\"\"\n",
    "    context = state['context']\n",
    "    query = state['query']\n",
    "\n",
    "    rag_chain = generate_prompt | llm\n",
    "\n",
    "    response = rag_chain.invoke({'question': query, 'context': context})\n",
    "\n",
    "    return {'answer': response}"
   ]
  },
  {
   "cell_type": "code",
   "execution_count": 104,
   "id": "4cb39060",
   "metadata": {},
   "outputs": [
    {
     "name": "stderr",
     "output_type": "stream",
     "text": [
      "c:\\workspace\\uv_work\\.venv\\Lib\\site-packages\\langsmith\\client.py:256: LangSmithMissingAPIKeyWarning: API key must be provided when using hosted LangSmith API\n",
      "  warnings.warn(\n"
     ]
    }
   ],
   "source": [
    "from langchain import hub\n",
    "from typing import Literal\n",
    "\n",
    "doc_releveance_prompt = hub.pull(\"langchain-ai/rag-document-relevance\")\n",
    "\n",
    "def check_doc_relevence(state: AgentState) -> Literal['relevant', 'irrelevant']:\n",
    "    \"\"\" \n",
    "    주어진 state를 기반으로 문서의 관련성을 판단합니다.\n",
    "    Args:\n",
    "        state (AgentState): 사용자의 질문과 문맥을 포함한 에이전트의 현재 state\n",
    "    Returns:\n",
    "        Literal['relevant', 'irrelevant']: 문서가 관련성이 높으면 'relevant', 그렇치 않으면 'irrelevant' 를 반환합니다.       \n",
    "    \"\"\"\n",
    "\n",
    "    query = state['query']\n",
    "    context = state['context']\n",
    "\n",
    "    doc_relevance_chain = doc_releveance_prompt | llm\n",
    "\n",
    "    response = doc_relevance_chain.invoke({'question': query, 'documents': context})\n",
    "\n",
    "    if response['Score'] == 1:\n",
    "        return 'relevant'\n",
    "    \n",
    "    return 'irrelevant'"
   ]
  },
  {
   "cell_type": "code",
   "execution_count": 105,
   "id": "d4ed3013",
   "metadata": {},
   "outputs": [],
   "source": [
    "from langchain_core.prompts import PromptTemplate\n",
    "from langchain_core.output_parsers import StrOutputParser\n",
    "\n",
    "dictionary = ['사랑과 관련된 표현 -> 거주자']\n",
    "\n",
    "rewrite_prompt = PromptTemplate.from_template(f\"\"\"\n",
    "사용자의 질문을 보고, 우리 사전을 참고해서 사용자의 질문을 변경해 주세요.\n",
    "사전: {dictionary}\n",
    "질문: {{query}}\n",
    "\"\"\")\n",
    "\n",
    "def rewrite(state=AgentState) -> AgentState:\n",
    "    \"\"\"\n",
    "    사용자의 질문을 사전에 고려하여 변경합니다.\n",
    "    Args:\n",
    "        state (AgentState): 사용자의 질문과 문맥을 포함한 에이전트의 현재 state\n",
    "    Returns:\n",
    "        AgentState: 변경된 질문을 포함하는 state를 반환합니다.   \n",
    "    \"\"\"\n",
    "    query = state['query']\n",
    "    rewrite_chain = rewrite_prompt | llm | StrOutputParser()\n",
    "    response = rewrite_chain.invoke({'query': query})\n",
    "\n",
    "    return {'query': response}"
   ]
  },
  {
   "cell_type": "code",
   "execution_count": 111,
   "id": "5fa374aa",
   "metadata": {},
   "outputs": [],
   "source": [
    "from langchain_core.output_parsers import StrOutputParser\n",
    "\n",
    "hallucination_prompt = PromptTemplate.from_template(\"\"\"\n",
    "You are a teacher tasked with evaluating whether a student's answer is based on documents or not,\n",
    "Given documents, which are excerpts from income tax law, and a student's answer;\n",
    "If the student's answer is based on documents, respond with \"not hallucinated\",\n",
    "If the student's answer is not based on documents, respond with \"hallucinated\".\n",
    "\n",
    "documents: {documents}\n",
    "student_answer: {student_answer}\n",
    "\"\"\")\n",
    "\n",
    "hallucination_llm = ChatOpenAI(model='gpt-4o', temperature=0)\n",
    "\n",
    "def check_hallucination(state: AgentState) -> Literal['hallucinated', 'not hallucinated']:\n",
    "    answer = state['answer']\n",
    "    context = state['context']\n",
    "    hallucination_chain = hallucination_prompt | hallucination_llm | StrOutputParser()\n",
    "    response = hallucination_chain.invoke({'student_answer': answer, 'documents': context})\n",
    "\n",
    "    print('거짓말: ', response)\n",
    "\n",
    "    return response"
   ]
  },
  {
   "cell_type": "markdown",
   "id": "d9319c87",
   "metadata": {},
   "source": [
    "### 초기값 넣어서 테스트"
   ]
  },
  {
   "cell_type": "code",
   "execution_count": 112,
   "id": "86a596d2",
   "metadata": {},
   "outputs": [
    {
     "name": "stdout",
     "output_type": "stream",
     "text": [
      "answer: {'answer': AIMessage(content='연봉 5천만 원의 세금을 계산하기 위해서는 소득세율과 여러 공제 항목을 고려해야 합니다. 일반적으로 연봉 5천만 원에 대한 소득세는 약 5%에서 15% 범위 내에서 결정될 수 있으며, 개인의 공제 조건에 따라 달라집니다. 정확한 금액은 세무 전문가나 소득세 계산기를 통해 확인하는 것이 좋습니다.', additional_kwargs={'refusal': None}, response_metadata={'token_usage': {'completion_tokens': 94, 'prompt_tokens': 3015, 'total_tokens': 3109, 'completion_tokens_details': {'accepted_prediction_tokens': 0, 'audio_tokens': 0, 'reasoning_tokens': 0, 'rejected_prediction_tokens': 0}, 'prompt_tokens_details': {'audio_tokens': 0, 'cached_tokens': 2944}}, 'model_name': 'gpt-4o-2024-08-06', 'system_fingerprint': 'fp_07871e2ad8', 'finish_reason': 'stop', 'logprobs': None}, id='run--c39e4699-463a-46f5-8be6-fb7d6702a73c-0', usage_metadata={'input_tokens': 3015, 'output_tokens': 94, 'total_tokens': 3109, 'input_token_details': {'audio': 0, 'cache_read': 2944}, 'output_token_details': {'audio': 0, 'reasoning': 0}})}\n",
      "거짓말:  hallucinated\n"
     ]
    },
    {
     "data": {
      "text/plain": [
       "'hallucinated'"
      ]
     },
     "execution_count": 112,
     "metadata": {},
     "output_type": "execute_result"
    }
   ],
   "source": [
    "# query = '연봉 5천만원 거주자의 소득세는 얼마인가요?'\n",
    "query = '연봉 5천 세금 얼마?'\n",
    "\n",
    "context = retriever.invoke(query)\n",
    "generate_state = {'query': query, 'context': context}\n",
    "answer = generate(generate_state)\n",
    "print(f'answer: {answer}')\n",
    "\n",
    "hallucination_state = {'answer': answer, 'context': context}\n",
    "check_hallucination(hallucination_state)"
   ]
  },
  {
   "cell_type": "code",
   "execution_count": null,
   "id": "4d78050d",
   "metadata": {},
   "outputs": [],
   "source": []
  },
  {
   "cell_type": "code",
   "execution_count": 116,
   "id": "825ccc72",
   "metadata": {},
   "outputs": [
    {
     "name": "stderr",
     "output_type": "stream",
     "text": [
      "c:\\workspace\\uv_work\\.venv\\Lib\\site-packages\\langsmith\\client.py:256: LangSmithMissingAPIKeyWarning: API key must be provided when using hosted LangSmith API\n",
      "  warnings.warn(\n"
     ]
    }
   ],
   "source": [
    "from langchain import hub\n",
    "\n",
    "helpfulness_prompt = hub.pull('langchain-ai/rag-answer-helpfulness')\n",
    "\n",
    "def check_helpfulness_grader(state: AgentState) -> Literal['helpful', 'unhelpful']:\n",
    "    \"\"\"\n",
    "    사용자의 질문에 기반하여 생성된 답변의 유용성을 평가합니다.\n",
    "    Args:\n",
    "        state (AgentState): 사용자의 질문과 문맥을 포함한 에이전트의 현재 state\n",
    "    Returns:\n",
    "        Literal['helpful', 'unhelpful']: 답변이 유용하다고 판단되면 'helpful', 그렇지 않다면 'unhelpful'을 반환합니다.\n",
    "    \"\"\"\n",
    "    query = state['query']\n",
    "    answer = state['answer']\n",
    "\n",
    "    helpfulness_chain = helpfulness_prompt | llm\n",
    "    response = helpfulness_chain.invoke({'question': query, 'student_answer': answer})\n",
    "\n",
    "    if response['Score'] == 1:\n",
    "        print('유용성: helpful')\n",
    "        return 'helpful'\n",
    "    \n",
    "    print('유용성: unhelpful')\n",
    "    return 'unhelpful'"
   ]
  },
  {
   "cell_type": "code",
   "execution_count": 117,
   "id": "962f9498",
   "metadata": {},
   "outputs": [],
   "source": [
    "def check_helpfulness(state: AgentState) -> AgentState:\n",
    "    \"\"\"\n",
    "    유용성을 확인하는 자리 표시자 함수입니다.\n",
    "    \"\"\"\n",
    "    return state"
   ]
  },
  {
   "cell_type": "code",
   "execution_count": 118,
   "id": "dd9ade5c",
   "metadata": {},
   "outputs": [
    {
     "name": "stdout",
     "output_type": "stream",
     "text": [
      "answer: {'answer': AIMessage(content='연봉 5천만 원인 거주자의 소득세는 624만 원입니다. 이는 5천만 원 초과 8,800만 원 이하 구간에 해당하며, 5천만 원을 초과하는 금액에 대해 24%의 세율이 적용됩니다.', additional_kwargs={'refusal': None}, response_metadata={'token_usage': {'completion_tokens': 65, 'prompt_tokens': 3061, 'total_tokens': 3126, 'completion_tokens_details': {'accepted_prediction_tokens': 0, 'audio_tokens': 0, 'reasoning_tokens': 0, 'rejected_prediction_tokens': 0}, 'prompt_tokens_details': {'audio_tokens': 0, 'cached_tokens': 2944}}, 'model_name': 'gpt-4o-2024-08-06', 'system_fingerprint': 'fp_cbf1785567', 'finish_reason': 'stop', 'logprobs': None}, id='run--7a629173-df0d-4e46-961d-4994bc55793e-0', usage_metadata={'input_tokens': 3061, 'output_tokens': 65, 'total_tokens': 3126, 'input_token_details': {'audio': 0, 'cache_read': 2944}, 'output_token_details': {'audio': 0, 'reasoning': 0}})}\n",
      "유용성: helpful\n"
     ]
    },
    {
     "data": {
      "text/plain": [
       "'helpful'"
      ]
     },
     "execution_count": 118,
     "metadata": {},
     "output_type": "execute_result"
    }
   ],
   "source": [
    "query = '연봉 5천만원 거주자의 소득세는 얼마인가요?'\n",
    "# query = '연봉 5천 세금 얼마?'\n",
    "\n",
    "context = retriever.invoke(query)\n",
    "generate_state = {'query': query, 'context': context}\n",
    "answer = generate(generate_state)\n",
    "print(f'answer: {answer}')\n",
    "\n",
    "helpfulness_state = {'answer': answer, 'query': query}\n",
    "check_helpfulness_grader(helpfulness_state)"
   ]
  },
  {
   "cell_type": "markdown",
   "id": "0c7c309c",
   "metadata": {},
   "source": [
    "### 혼자 해보기 그래프"
   ]
  },
  {
   "cell_type": "code",
   "execution_count": 127,
   "id": "dd66f0ed",
   "metadata": {},
   "outputs": [
    {
     "data": {
      "text/plain": [
       "<langgraph.graph.state.StateGraph at 0x20c2228ca50>"
      ]
     },
     "execution_count": 127,
     "metadata": {},
     "output_type": "execute_result"
    }
   ],
   "source": [
    "builder = StateGraph(AgentState)\n",
    "\n",
    "builder.add_node(\"retrieve\", retrieve)\n",
    "builder.add_node(\"generate\", generate)\n",
    "builder.add_node('rewrite', rewrite)\n",
    "builder.add_node('check_helpfulness',check_helpfulness)"
   ]
  },
  {
   "cell_type": "code",
   "execution_count": 128,
   "id": "7598e439",
   "metadata": {},
   "outputs": [
    {
     "data": {
      "text/plain": [
       "<langgraph.graph.state.StateGraph at 0x20c2228ca50>"
      ]
     },
     "execution_count": 128,
     "metadata": {},
     "output_type": "execute_result"
    }
   ],
   "source": [
    "from langgraph.graph import START, END\n",
    "\n",
    "builder.add_edge(START, \"retrieve\")   \n",
    "builder.add_conditional_edges(\n",
    "    \"retrieve\",\n",
    "    check_doc_relevence,\n",
    "    {\n",
    "        \"relevant\": \"generate\",     # 문서 관련 있으면 → generate\n",
    "        \"irrelevant\": END     # 문서 관련 없으면 → rewrite → END\n",
    "    }\n",
    ")\n",
    "builder.add_conditional_edges(\n",
    "    'generate',\n",
    "    check_hallucination,\n",
    "    {\n",
    "        'not hallucinated': 'check_helpfulness',\n",
    "        'hallucinated': 'generate'\n",
    "    }\n",
    ")\n",
    "builder.add_conditional_edges(\n",
    "    'check_helpfulness',\n",
    "    check_helpfulness_grader,\n",
    "    {\n",
    "        'helpful': END,\n",
    "        'unhelpful': 'rewrite'\n",
    "    }\n",
    ")\n",
    "builder.add_edge(\"rewrite\", \"retrieve\")   # rewrite 후 다시 검색"
   ]
  },
  {
   "cell_type": "code",
   "execution_count": 129,
   "id": "d91b4137",
   "metadata": {},
   "outputs": [],
   "source": [
    "graph = builder.compile()"
   ]
  },
  {
   "cell_type": "code",
   "execution_count": 130,
   "id": "95f38842",
   "metadata": {},
   "outputs": [
    {
     "data": {
      "image/png": "[encoded data removed]",
      "text/plain": [
       "<IPython.core.display.Image object>"
      ]
     },
     "metadata": {},
     "output_type": "display_data"
    }
   ],
   "source": [
    "from IPython.display import Image, display\n",
    "\n",
    "display(Image(graph.get_graph().draw_mermaid_png()))"
   ]
  },
  {
   "cell_type": "code",
   "execution_count": 134,
   "id": "2118b858",
   "metadata": {},
   "outputs": [
    {
     "name": "stdout",
     "output_type": "stream",
     "text": [
      "거짓말:  not hallucinated\n",
      "유용성: helpful\n"
     ]
    }
   ],
   "source": [
    "# test\n",
    "initial_state = {\"query\": \"연봉 5천만원 거주자의 소득세는 얼마인가요?\"}\n",
    "response = graph.invoke(initial_state)"
   ]
  },
  {
   "cell_type": "code",
   "execution_count": 136,
   "id": "694eacd5",
   "metadata": {},
   "outputs": [
    {
     "data": {
      "text/plain": [
       "{'query': '연봉 5천만원 거주자의 소득세는 얼마인가요?',\n",
       " 'context': [Document(metadata={'source': './tax.docx'}, page_content='제55조(세율) ①거주자의 종합소득에 대한 소득세는 해당 연도의 종합소득과세표준에 다음의 세율을 적용하여 계산한 금액(이하 “종합소득산출세액”이라 한다)을 그 세액으로 한다. <개정 2014. 1. 1., 2016. 12. 20., 2017. 12. 19., 2020. 12. 29., 2022. 12. 31.>\\n\\n| 종합소득 과세표준          | 세율                                         |\\n\\n|-------------------|--------------------------------------------|\\n\\n| 1,400만원 이하     | 과세표준의 6퍼센트                             |\\n\\n| 1,400만원 초과     5,000만원 이하     | 84만원 + (1,400만원을 초과하는 금액의 15퍼센트)  |\\n\\n| 5,000만원 초과   8,800만원 이하     | 624만원 + (5,000만원을 초과하는 금액의 24퍼센트) |\\n\\n| 8,800만원 초과 1억5천만원 이하    | 3,706만원 + (8,800만원을 초과하는 금액의 35퍼센트)|\\n\\n| 1억5천만원 초과 3억원 이하         | 3,706만원 + (1억5천만원을 초과하는 금액의 38퍼센트)|\\n\\n| 3억원 초과    5억원 이하         | 9,406만원 + (3억원을 초과하는 금액의 38퍼센트)   |\\n\\n| 5억원 초과      10억원 이하        | 1억 7,406만원 + (5억원을 초과하는 금액의 42퍼센트)|\\n\\n| 10억원 초과        | 3억 8,406만원 + (10억원을 초과하는 금액의 45퍼센트)|\\n\\n\\n\\n\\n\\n② 거주자의 퇴직소득에 대한 소득세는 다음 각 호의 순서에 따라 계산한 금액(이하 “퇴직소득 산출세액”이라 한다)으로 한다.<개정 2013. 1. 1., 2014. 12. 23.>\\n\\n1. 해당 과세기간의 퇴직소득과세표준에 제1항의 세율을 적용하여 계산한 금액\\n\\n2. 제1호의 금액을 12로 나눈 금액에 근속연수를 곱한 금액\\n\\n3. 삭제<2014. 12. 23.>\\n\\n[전문개정 2009. 12. 31.]\\n\\n\\n\\n제2관 세액공제 <개정 2009. 12. 31.>\\n\\n\\n\\n제56조(배당세액공제) ① 거주자의 종합소득금액에 제17조제3항 각 호 외의 부분 단서가 적용되는 배당소득금액이 합산되어 있는 경우에는 같은 항 각 호 외의 부분 단서에 따라 해당 과세기간의 총수입금액에 더한 금액에 해당하는 금액을 종합소득 산출세액에서 공제한다. <개정 2009. 12. 31.>\\n\\n② 제1항에 따른 공제를 “배당세액공제”라 한다.<개정 2009. 12. 31.>\\n\\n③ 삭제<2003. 12. 30.>\\n\\n④ 제1항을 적용할 때 배당세액공제의 대상이 되는 배당소득금액은 제14조제2항의 종합소득과세표준에 포함된 배당소득금액으로서 이자소득등의 종합과세기준금액을 초과하는 것으로 한다.<개정 2009. 12. 31.>\\n\\n⑤ 삭제<2006. 12. 30.>'),\n",
       "  Document(metadata={'source': './tax.docx'}, page_content='제47조(근로소득공제) ①근로소득이 있는 거주자에 대해서는 해당 과세기간에 받는 총급여액에서 다음의 금액을 공제한다. 다만, 공제액이 2천만원을 초과하는 경우에는 2천만원을 공제한다. <개정 2012. 1. 1., 2014. 1. 1., 2019. 12. 31.>\\n\\n\\n\\n② 일용근로자에 대한 공제액은 제1항에도 불구하고 1일 15만원으로 한다.<개정 2018. 12. 31.>\\n\\n③ 근로소득이 있는 거주자의 해당 과세기간의 총급여액이 제1항 또는 제2항의 공제액에 미달하는 경우에는 그 총급여액을 공제액으로 한다.\\n\\n④ 제1항부터 제3항까지의 규정에 따른 공제를 “근로소득공제”라 한다.\\n\\n⑤ 제1항의 경우에 2인 이상으로부터 근로소득을 받는 사람(일용근로자는 제외한다)에 대하여는 그 근로소득의 합계액을 총급여액으로 하여 제1항에 따라 계산한 근로소득공제액을 총급여액에서 공제한다.<개정 2010. 12. 27.>\\n\\n⑥ 삭제<2010. 12. 27.>\\n\\n[전문개정 2009. 12. 31.]\\n\\n\\n\\n제47조의2(연금소득공제) ①연금소득이 있는 거주자에 대해서는 해당 과세기간에 받은 총연금액(분리과세연금소득은 제외하며, 이하 이 항에서 같다)에서 다음 표에 규정된 금액을 공제한다. 다만, 공제액이 900만원을 초과하는 경우에는 900만원을 공제한다. <개정 2013. 1. 1.>\\n\\n\\n\\n② 제1항에 따른 공제를 “연금소득공제”라 한다.\\n\\n[전문개정 2009. 12. 31.]\\n\\n\\n\\n제48조(퇴직소득공제) ① 퇴직소득이 있는 거주자에 대해서는 해당 과세기간의 퇴직소득금액에서 제1호의 구분에 따른 금액을 공제하고, 그 금액을 근속연수(1년 미만의 기간이 있는 경우에는 이를 1년으로 보며, 제22조제1항제1호의 경우에는 대통령령으로 정하는 방법에 따라 계산한 연수를 말한다. 이하 같다)로 나누고 12를 곱한 후의 금액(이하 이 항에서 “환산급여”라 한다)에서 제2호의 구분에 따른 금액을 공제한다. <개정 2014. 12. 23., 2022. 12. 31.>\\n\\n1. 근속연수에 따라 정한 다음의 금액\\n\\n\\n\\n2. 환산급여에 따라 정한 다음의 금액\\n\\n\\n\\n② 해당 과세기간의 퇴직소득금액이 제1항제1호에 따른 공제금액에 미달하는 경우에는 그 퇴직소득금액을 공제액으로 한다.<개정 2014. 12. 23.>\\n\\n③ 제1항과 제2항에 따른 공제를 “퇴직소득공제”라 한다.\\n\\n④ 퇴직소득공제의 계산 방법에 관하여 필요한 사항은 대통령령으로 정한다.<개정 2013. 1. 1.>\\n\\n⑤ 삭제<2013. 1. 1.>\\n\\n[전문개정 2009. 12. 31.]\\n\\n\\n\\n제49조 삭제 <2006. 12. 30.>\\n\\n\\n\\n제6관 종합소득공제 <개정 2009. 12. 31.>\\n\\n\\n\\n제50조(기본공제) ① 종합소득이 있는 거주자(자연인만 해당한다)에 대해서는 다음 각 호의 어느 하나에 해당하는 사람의 수에 1명당 연 150만원을 곱하여 계산한 금액을 그 거주자의 해당 과세기간의 종합소득금액에서 공제한다. <개정 2015. 12. 15.>\\n\\n1. 해당 거주자'),\n",
       "  Document(metadata={'source': './tax.docx'}, page_content='3. 「자본시장과 금융투자업에 관한 법률」 제251조제1항에 따른 집합투자업겸영보험회사의 특별계정\\n\\n③ 비거주자의 소득은 제119조에 따라 구분한다.\\n\\n[전문개정 2009. 12. 31.]\\n\\n\\n\\n제4조(소득의 구분) ① 거주자의 소득은 다음 각 호와 같이 구분한다. <개정 2013. 1. 1., 2020. 12. 29.>\\n\\n1. 종합소득\\n\\n\\u3000이 법에 따라 과세되는 모든 소득에서 제2호, 제2호의2 및 제3호에 따른 소득을 제외한 소득으로서 다음 각 목의 소득을 합산한 것\\n\\n가. 이자소득\\n\\n나. 배당소득\\n\\n다. 사업소득\\n\\n라. 근로소득\\n\\n마. 연금소득\\n\\n바. 기타소득\\n\\n2. 퇴직소득\\n\\n2의2. 금융투자소득\\n\\n3. 양도소득\\n\\n② 제1항에 따른 소득을 구분할 때 다음 각 호의 신탁을 제외한 신탁의 이익은 「신탁법」 제2조에 따라 수탁자에게 이전되거나 그 밖에 처분된 재산권에서 발생하는 소득의 내용별로 구분한다.<개정 2011. 7. 25., 2020. 12. 29., 2022. 12. 31.>\\n\\n1. 「법인세법」 제5조제2항에 따라 신탁재산에 귀속되는 소득에 대하여 그 신탁의 수탁자가 법인세를 납부하는 신탁\\n\\n2. 「자본시장과 금융투자업에 관한 법률」 제9조제18항제1호에 따른 투자신탁. 다만, 2024년 12월 31일까지는 이 법 제17조제1항제5호에 따른 집합투자기구로 한정한다.\\n\\n3. 「자본시장과 금융투자업에 관한 법률」 제251조제1항에 따른 집합투자업겸영보험회사의 특별계정\\n\\n③ 비거주자의 소득은 제119조에 따라 구분한다.\\n\\n[전문개정 2009. 12. 31.]\\n\\n[시행일: 2025. 1. 1.] 제4조제1항제1호, 제4조제1항제2호의2\\n\\n\\n\\n제5조(과세기간) ① 소득세의 과세기간은 1월 1일부터 12월 31일까지 1년으로 한다.\\n\\n② 거주자가 사망한 경우의 과세기간은 1월 1일부터 사망한 날까지로 한다.\\n\\n③ 거주자가 주소 또는 거소를 국외로 이전(이하 “출국”이라 한다)하여 비거주자가 되는 경우의 과세기간은 1월 1일부터 출국한 날까지로 한다.\\n\\n[전문개정 2009. 12. 31.]\\n\\n\\n\\n제6조(납세지) ① 거주자의 소득세 납세지는 그 주소지로 한다. 다만, 주소지가 없는 경우에는 그 거소지로 한다.\\n\\n② 비거주자의 소득세 납세지는 제120조에 따른 국내사업장(이하 “국내사업장”이라 한다)의 소재지로 한다. 다만, 국내사업장이 둘 이상 있는 경우에는 주된 국내사업장의 소재지로 하고, 국내사업장이 없는 경우에는 국내원천소득이 발생하는 장소로 한다.<개정 2013. 1. 1.>\\n\\n③ 납세지가 불분명한 경우에는 대통령령으로 정하는 바에 따라 납세지를 결정한다.\\n\\n[전문개정 2009. 12. 31.]\\n\\n\\n\\n제7조(원천징수 등의 경우의 납세지) ① 원천징수하는 소득세의 납세지는 다음 각 호에 따른다. <개정 2012. 1. 1., 2023. 12. 31.>')],\n",
       " 'answer': AIMessage(content='연봉 5천만원인 거주자의 소득세는 624만원입니다. 이는 과세표준 5천만원 이하 구간에 해당하며, 84만원 + (1,400만원을 초과하는 금액의 15퍼센트)로 계산됩니다. 5천만원 - 1,400만원 = 3,600만원에 15%를 적용한 540만원을 더하면 총 624만원입니다.', additional_kwargs={'refusal': None}, response_metadata={'token_usage': {'completion_tokens': 96, 'prompt_tokens': 3061, 'total_tokens': 3157, 'completion_tokens_details': {'accepted_prediction_tokens': 0, 'audio_tokens': 0, 'reasoning_tokens': 0, 'rejected_prediction_tokens': 0}, 'prompt_tokens_details': {'audio_tokens': 0, 'cached_tokens': 2944}}, 'model_name': 'gpt-4o-2024-08-06', 'system_fingerprint': 'fp_cbf1785567', 'finish_reason': 'stop', 'logprobs': None}, id='run--1793e915-c628-4005-b703-21eb544cc169-0', usage_metadata={'input_tokens': 3061, 'output_tokens': 96, 'total_tokens': 3157, 'input_token_details': {'audio': 0, 'cache_read': 2944}, 'output_token_details': {'audio': 0, 'reasoning': 0}})}"
      ]
     },
     "execution_count": 136,
     "metadata": {},
     "output_type": "execute_result"
    }
   ],
   "source": [
    "response"
   ]
  },
  {
   "cell_type": "code",
   "execution_count": 137,
   "id": "e9521039",
   "metadata": {},
   "outputs": [
    {
     "name": "stdout",
     "output_type": "stream",
     "text": [
      "연봉 5천만원인 거주자의 소득세는 624만원입니다. 이는 과세표준 5천만원 이하 구간에 해당하며, 84만원 + (1,400만원을 초과하는 금액의 15퍼센트)로 계산됩니다. 5천만원 - 1,400만원 = 3,600만원에 15%를 적용한 540만원을 더하면 총 624만원입니다.\n"
     ]
    }
   ],
   "source": [
    "print(response['answer'].content)"
   ]
  },
  {
   "cell_type": "code",
   "execution_count": null,
   "id": "fb79a16f",
   "metadata": {},
   "outputs": [],
   "source": []
  },
  {
   "cell_type": "code",
   "execution_count": null,
   "id": "e3890173",
   "metadata": {},
   "outputs": [],
   "source": []
  }
 ],
 "metadata": {
  "kernelspec": {
   "display_name": "uv-work",
   "language": "python",
   "name": "python3"
  },
  "language_info": {
   "codemirror_mode": {
    "name": "ipython",
    "version": 3
   },
   "file_extension": ".py",
   "mimetype": "text/x-python",
   "name": "python",
   "nbconvert_exporter": "python",
   "pygments_lexer": "ipython3",
   "version": "3.11.9"
  }
 },
 "nbformat": 4,
 "nbformat_minor": 5
}
