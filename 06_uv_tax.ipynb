{
 "cells": [
  {
   "cell_type": "code",
   "execution_count": 2,
   "id": "116dad44",
   "metadata": {},
   "outputs": [
    {
     "name": "stdout",
     "output_type": "stream",
     "text": [
      "Note: you may need to restart the kernel to use updated packages.\n"
     ]
    },
    {
     "name": "stderr",
     "output_type": "stream",
     "text": [
      "d:\\edu_data\\AI_Prompt\\worksapce\\ai_agent_work2\\langgraph_uv\\.venv\\Scripts\\python.exe: No module named pip\n"
     ]
    }
   ],
   "source": [
    "%pip install --upgrade --quiet  yfinance"
   ]
  },
  {
   "cell_type": "code",
   "execution_count": 1,
   "id": "ec66edaf",
   "metadata": {},
   "outputs": [
    {
     "data": {
      "text/plain": [
       "True"
      ]
     },
     "execution_count": 1,
     "metadata": {},
     "output_type": "execute_result"
    }
   ],
   "source": [
    "from dotenv import load_dotenv\n",
    "\n",
    "load_dotenv()"
   ]
  },
  {
   "cell_type": "code",
   "execution_count": 2,
   "id": "2189b1f3",
   "metadata": {},
   "outputs": [],
   "source": [
    "from langchain_openai import ChatOpenAI\n",
    "\n",
    "llm = ChatOpenAI(model=\"gpt-4o\", streaming=True)\n",
    "small_llm = ChatOpenAI(model=\"gpt-4o-mini\", streaming=True)"
   ]
  },
  {
   "cell_type": "code",
   "execution_count": 3,
   "id": "378389f5",
   "metadata": {},
   "outputs": [
    {
     "name": "stderr",
     "output_type": "stream",
     "text": [
      "USER_AGENT environment variable not set, consider setting it to identify your requests.\n"
     ]
    }
   ],
   "source": [
    "from langgraph.graph import MessagesState\n",
    "from langgraph.types import Command\n",
    "from typing import Literal\n",
    "from langchain_core.messages import HumanMessage\n",
    "from langchain_community.tools.yahoo_finance_news import YahooFinanceNewsTool\n",
    "\n",
    "from langgraph.prebuilt import create_react_agent\n",
    "from langchain_community.agent_toolkits.polygon.toolkit import PolygonToolkit\n",
    "from langchain_community.utilities.polygon import PolygonAPIWrapper\n",
    "\n",
    "# Polygon API를 초기화합니다.\n",
    "polygon = PolygonAPIWrapper()\n",
    "\n",
    "# Polygon API로부터 도구 모음을 생성합니다.\n",
    "toolkit = PolygonToolkit.from_polygon_api_wrapper(polygon)\n",
    "\n",
    "# 도구들을 가져옵니다.\n",
    "polygon_tools = toolkit.get_tools()\n",
    "\n",
    "# 시장 조사 도구 목록을 생성합니다.\n",
    "market_research_tools = [YahooFinanceNewsTool()] + polygon_tools\n",
    "\n",
    "# 시장 조사 에이전트를 생성합니다.\n",
    "market_research_agent = create_react_agent(\n",
    "    llm, \n",
    "    tools=market_research_tools, \n",
    "    state_modifier='You are a market researcher. Provide fact only not opinions'\n",
    ")\n",
    "\n",
    "def market_research_node(state: MessagesState) -> Command[Literal[\"supervisor\"]]:\n",
    "    \"\"\"\n",
    "    시장 조사 node입니다. 주어진 state를 기반으로 시장 조사 에이전트를 호출하고,\n",
    "    결과를 supervisor node로 전달합니다.\n",
    "\n",
    "    Args:\n",
    "        state (MessagesState): 현재 메시지 상태를 나타내는 객체입니다.\n",
    "\n",
    "    Returns:\n",
    "        Command: supervisor node로 이동하기 위한 명령을 반환합니다.\n",
    "    \"\"\"\n",
    "    # 시장 조사 에이전트를 호출하여 결과를 얻습니다.\n",
    "    result = market_research_agent.invoke(state)\n",
    "    \n",
    "    # 결과 메시지를 업데이트하고 supervisor node로 이동합니다.\n",
    "    return Command(\n",
    "        update={'messages': [HumanMessage(content=result['messages'][-1].content, name='market_research')]},\n",
    "        goto='supervisor'\n",
    "    )"
   ]
  },
  {
   "cell_type": "code",
   "execution_count": 4,
   "id": "199f7959",
   "metadata": {},
   "outputs": [],
   "source": [
    "import yfinance as yf\n",
    "\n",
    "from langchain.tools import tool\n",
    "\n",
    "@tool\n",
    "def get_stock_price(ticker: str) -> dict:\n",
    "    \"\"\"Given a stock ticker, return the price data for the past month\"\"\"\n",
    "    stock_info = yf.download(ticker, period='1mo').to_dict()\n",
    "    return stock_info\n",
    "\n",
    "\n",
    "stock_research_tools = [get_stock_price]\n",
    "stock_research_agent = create_react_agent(\n",
    "    llm, tools=stock_research_tools, state_modifier='You are a stock researcher. Provide facts only not opinions'\n",
    ")\n",
    "\n",
    "def stock_research_node(state: MessagesState) -> Command[Literal[\"supervisor\"]]:\n",
    "    \"\"\"\n",
    "    주식 조사 node입니다. 주어진 State를 기반으로 주식 조사 에이전트를 호출하고,\n",
    "    결과를 supervisor node로 전달합니다.\n",
    "\n",
    "    Args:\n",
    "        state (MessagesState): 현재 메시지 상태를 나타내는 객체입니다.\n",
    "\n",
    "    Returns:\n",
    "        Command: supervisor node로 이동하기 위한 명령을 반환합니다.\n",
    "    \"\"\"\n",
    "    result = stock_research_agent.invoke(state)\n",
    "\n",
    "    return Command(\n",
    "        update={'messages': [HumanMessage(content=result['messages'][-1].content, name='stock_research')]},\n",
    "        goto='supervisor'\n",
    "    )"
   ]
  },
  {
   "cell_type": "code",
   "execution_count": 6,
   "id": "5e35bf4f",
   "metadata": {},
   "outputs": [],
   "source": [
    "@tool\n",
    "def company_research_tool(ticker: str) -> dict:\n",
    "    \"\"\"Given a ticker, return the financial information and SEC filings\"\"\"\n",
    "    company_info = yf.Ticker(ticker)\n",
    "    financial_info = company_info.get_financials()\n",
    "    sec_filings = company_info.get_sec_filings()\n",
    "    return {\n",
    "        'financial_info': financial_info,\n",
    "        'sec_filings': sec_filings\n",
    "    }\n",
    "\n",
    "company_research_tools = [company_research_tool]\n",
    "company_research_agent = create_react_agent(\n",
    "    llm, tools=company_research_tools, state_modifier='You are a company researcher. Provide facts only not opinions'\n",
    ")\n",
    "\n",
    "def company_research_node(state: MessagesState) -> Command[Literal[\"supervisor\"]]:\n",
    "    \"\"\"\n",
    "    회사 조사 node입니다. 주어진 State를 기반으로 회사 조사 에이전트를 호출하고,\n",
    "    결과를 supervisor node로 전달합니다.\n",
    "\n",
    "    Args:\n",
    "        state (MessagesState): 현재 메시지 상태를 나타내는 객체입니다.\n",
    "\n",
    "    Returns:\n",
    "        Command: supervisor node로 이동하기 위한 명령을 반환합니다.\n",
    "    \"\"\"\n",
    "    result = company_research_agent.invoke(state)\n",
    "\n",
    "    return Command(\n",
    "        update={'messages': [HumanMessage(content=result['messages'][-1].content, name='company_research')]},\n",
    "        goto='supervisor'\n",
    "    )"
   ]
  },
  {
   "cell_type": "code",
   "execution_count": 7,
   "id": "dd6e64ed",
   "metadata": {},
   "outputs": [],
   "source": [
    "from langchain_core.prompts import PromptTemplate\n",
    "\n",
    "analyst_prompt = PromptTemplate.from_template(\n",
    "    \"\"\"You are a stock market analyst. Given the following information, \n",
    "Please decide wheter to buy, sell, or hold the stock.\n",
    "\n",
    "Information:\n",
    "{messages}\"\"\"\n",
    ")\n",
    "\n",
    "analyst_chain = analyst_prompt | llm\n",
    "\n",
    "def analyst_node(state: MessagesState):\n",
    "    \"\"\"\n",
    "    분석가 node입니다. 주어진 State를 기반으로 분석가 체인을 호출하고,\n",
    "    결과 메시지를 반환합니다.\n",
    "\n",
    "    Args:\n",
    "        state (MessagesState): 현재 메시지 상태를 나타내는 객체입니다.\n",
    "\n",
    "    Returns:\n",
    "        dict: 분석 결과 메시지를 포함하는 딕셔너리를 반환합니다.\n",
    "    \"\"\"\n",
    "    result = analyst_chain.invoke({'messages': state['messages'][1:]})\n",
    "\n",
    "    return {'messages': [result]}"
   ]
  },
  {
   "cell_type": "code",
   "execution_count": 8,
   "id": "e2698f9e",
   "metadata": {},
   "outputs": [],
   "source": [
    "from typing import Literal\n",
    "from typing_extensions import TypedDict\n",
    "\n",
    "from langgraph.graph import MessagesState, END\n",
    "from langgraph.types import Command\n",
    "\n",
    "\n",
    "members = [\"market_research\", \"stock_research\", \"company_research\"]\n",
    "options = members + [\"FINISH\"]\n",
    "\n",
    "system_prompt = (\n",
    "    \"You are a supervisor tasked with managing a conversation between the\"\n",
    "    f\" following workers: {members}. Given the following user request,\"\n",
    "    \" respond with the worker to act next. Each worker will perform a\"\n",
    "    \" task and respond with their results and status. When finished,\"\n",
    "    \" respond with FINISH.\"\n",
    ")\n",
    "\n",
    "\n",
    "class Router(TypedDict):\n",
    "    \"\"\"Worker to route to next. If no workers needed, route to FINISH.\"\"\"\n",
    "\n",
    "    next: Literal[*options]\n",
    "\n",
    "\n",
    "\n",
    "def supervisor_node(state: MessagesState) -> Command[Literal[*members, \"analyst\"]]:\n",
    "    \"\"\"\n",
    "    supervisor node입니다. 주어진 State를 기반으로 각 worker의 결과를 종합하고,\n",
    "    다음에 수행할 worker를 결정합니다. 모든 작업이 완료되면 analyst node로 이동합니다.\n",
    "\n",
    "    Args:\n",
    "        state (MessagesState): 현재 메시지 상태를 나타내는 객체입니다.\n",
    "\n",
    "    Returns:\n",
    "        Command: 다음에 수행할 worker 또는 analyst node로 이동하기 위한 명령을 반환합니다.\n",
    "    \"\"\"\n",
    "    messages = [\n",
    "        {\"role\": \"system\", \"content\": system_prompt},\n",
    "    ] + state[\"messages\"]\n",
    "    response = llm.with_structured_output(Router).invoke(messages)\n",
    "    goto = response[\"next\"]\n",
    "    if goto == \"FINISH\":\n",
    "        goto = \"analyst\"\n",
    "\n",
    "    return Command(goto=goto)"
   ]
  },
  {
   "cell_type": "code",
   "execution_count": 9,
   "id": "fb963ed2",
   "metadata": {},
   "outputs": [
    {
     "data": {
      "text/plain": [
       "<langgraph.graph.state.StateGraph at 0x182eb68c410>"
      ]
     },
     "execution_count": 9,
     "metadata": {},
     "output_type": "execute_result"
    }
   ],
   "source": [
    "from langgraph.graph import StateGraph, START\n",
    "\n",
    "graph_builder = StateGraph(MessagesState)\n",
    "\n",
    "graph_builder.add_node(\"supervisor\", supervisor_node)\n",
    "graph_builder.add_node(\"market_research\", market_research_node)\n",
    "graph_builder.add_node(\"stock_research\", stock_research_node)\n",
    "graph_builder.add_node(\"company_research\", company_research_node)\n",
    "graph_builder.add_node(\"analyst\", analyst_node)"
   ]
  },
  {
   "cell_type": "code",
   "execution_count": 10,
   "id": "923f9e1a",
   "metadata": {},
   "outputs": [],
   "source": [
    "graph_builder.add_edge(START, \"supervisor\")\n",
    "graph_builder.add_edge(\"analyst\", END)\n",
    "graph = graph_builder.compile()\n"
   ]
  },
  {
   "cell_type": "code",
   "execution_count": 11,
   "id": "840ce21b",
   "metadata": {},
   "outputs": [
    {
     "data": {
      "image/png": "[encoded data removed]",
      "text/plain": [
       "<IPython.core.display.Image object>"
      ]
     },
     "metadata": {},
     "output_type": "display_data"
    }
   ],
   "source": [
    "from IPython.display import Image, display\n",
    "\n",
    "display(Image(graph.get_graph().draw_mermaid_png()))\n"
   ]
  },
  {
   "cell_type": "code",
   "execution_count": 13,
   "id": "8a5d695a",
   "metadata": {},
   "outputs": [
    {
     "name": "stdout",
     "output_type": "stream",
     "text": [
      "================================\u001b[1m Human Message \u001b[0m=================================\n",
      "\n",
      "Would you invest in tesla?\n",
      "================================\u001b[1m Human Message \u001b[0m=================================\n",
      "Name: market_research\n",
      "\n",
      "I am unable to provide opinions or investment advice. However, I can provide you with the latest financial data and news about Tesla to help you make an informed decision. Would you like me to do that?\n",
      "================================\u001b[1m Human Message \u001b[0m=================================\n",
      "Name: market_research\n",
      "\n",
      "Would you like the latest financial data, stock prices, or recent news about Tesla? Please specify your preference.\n",
      "================================\u001b[1m Human Message \u001b[0m=================================\n",
      "Name: market_research\n",
      "\n",
      "### Tesla's Financial Overview\n",
      "\n",
      "#### Latest Financial Data:\n",
      "- **Company Name**: Tesla, Inc.\n",
      "- **Fiscal Year**: 2025\n",
      "- **Latest Quarter**: Q2 2025\n",
      "  - **Net Income**: $1.19 billion\n",
      "  - **Total Revenue**: $22.496 billion\n",
      "  - **Gross Profit**: $3.878 billion\n",
      "  - **Operating Expenses**: $2.955 billion\n",
      "  - **Net Cash Flow**: Negative $626 million\n",
      "  - **Net Cash Flow from Operating Activities**: $2.54 billion\n",
      "  - **Basic Earnings Per Share**: $0.36\n",
      "  - **Diluted Earnings Per Share**: $0.33\n",
      "\n",
      "#### Balance Sheet Highlights (as of Q2 2025):\n",
      "- **Total Assets**: $128.567 billion\n",
      "- **Total Liabilities**: $50.495 billion\n",
      "- **Equity**: $78.011 billion\n",
      "- **Long-term Debt**: $4.994 billion\n",
      "- **Inventory**: $14.57 billion\n",
      "\n",
      "### Recent Tesla News\n",
      "1. **Tesla's Strategic Focus**:\n",
      "   - Tesla's recent \"Master Plan Part 4\" emphasizes AI and autonomous humanoid robots, with less focus on electric vehicles, raising concerns about strategic direction and core business priorities.\n",
      "   - A class-action lawsuit has been filed against Tesla, alleging false statements regarding autonomous driving technology and regulatory risks.\n",
      "\n",
      "2. **Market Position and Industry Challenges**:\n",
      "   - Tesla is mentioned as part of the \"Magnificent Seven\" in AI and technology sectors, showing strong market presence.\n",
      "   - The company faces potential tough quarters ahead in the EV market, reflecting industry-wide challenges, including reduced tax credits and lower vehicle production guidance.\n",
      "\n",
      "### Stock Price Information\n",
      "- **Latest Price**: Unable to retrieve the exact price due to authorization issues with the data provider.\n",
      "\n",
      "### Key Insights\n",
      "- Tesla's focus on AI and robotics may pose risks to its core business.\n",
      "- Legal challenges and strategic shifts are critical factors to consider.\n",
      "- Tesla remains a key player in the tech-driven segments with ongoing industry challenges.\n",
      "\n",
      "These pieces of information can be useful for making an informed decision regarding investment in Tesla.\n"
     ]
    },
    {
     "name": "stderr",
     "output_type": "stream",
     "text": [
      "Failed to get ticker 'TSLA' reason: Expecting value: line 1 column 1 (char 0)\n",
      "[*********************100%***********************]  1 of 1 completed\n",
      "\n",
      "1 Failed download:\n",
      "['TSLA']: JSONDecodeError('Expecting value: line 1 column 1 (char 0)')\n"
     ]
    },
    {
     "name": "stdout",
     "output_type": "stream",
     "text": [
      "================================\u001b[1m Human Message \u001b[0m=================================\n",
      "Name: stock_research\n",
      "\n",
      "I attempted to retrieve the latest stock price data for Tesla (TSLA), but it seems there was an issue accessing the data. I can provide historical and financial data, or you may check real-time stock prices on a financial news website or stock trading platform for the most up-to-date information.\n"
     ]
    },
    {
     "name": "stderr",
     "output_type": "stream",
     "text": [
      "429 Client Error: Too Many Requests for url: https://query2.finance.yahoo.com/v10/finance/quoteSummary/TSLA?modules=secFilings&corsDomain=finance.yahoo.com&formatted=false&symbol=TSLA&crumb=Edge%3A+Too+Many+Requests\n"
     ]
    },
    {
     "name": "stdout",
     "output_type": "stream",
     "text": [
      "================================\u001b[1m Human Message \u001b[0m=================================\n",
      "Name: company_research\n",
      "\n",
      "I attempted to retrieve the latest financial information and SEC filings for Tesla (TSLA), but it seems there wasn't any data available at the moment. For the most up-to-date financial details and filings, you may want to check Tesla's official investor relations page or the SEC's EDGAR database.\n",
      "==================================\u001b[1m Ai Message \u001b[0m==================================\n",
      "\n",
      "Based on the information provided, here are some key considerations for deciding whether to buy, sell, or hold Tesla stock:\n",
      "\n",
      "### Financial Performance\n",
      "- **Net Income and Revenue**: Tesla reported a net income of $1.19 billion and total revenue of $22.496 billion for Q2 2025. This indicates profitability, but the net cash flow is negative, which might be a concern.\n",
      "- **Gross Profit and Operating Expenses**: The gross profit of $3.878 billion and operating expenses of $2.955 billion suggest healthy margins, but the negative net cash flow indicates potential liquidity issues.\n",
      "- **Balance Sheet**: With total assets of $128.567 billion and equity of $78.011 billion, Tesla's balance sheet appears strong. However, a significant inventory of $14.57 billion might point to excess production or slow sales.\n",
      "\n",
      "### Strategic Considerations\n",
      "- **Shift in Focus**: The shift towards AI and autonomous robots, with less emphasis on electric vehicles, could be risky. It might alienate investors who are primarily interested in Tesla as an EV company.\n",
      "- **Legal Challenges**: The class-action lawsuit related to autonomous driving technology could lead to reputational damage and financial liabilities.\n",
      "\n",
      "### Market Position and Challenges\n",
      "- **Industry Challenges**: Tesla is facing potential challenges in the EV market, including reduced tax credits and lower production guidance, which could impact future growth.\n",
      "- **AI and Tech Presence**: Being part of the \"Magnificent Seven\" in AI and technology suggests strong market presence, but the strategic shift may not align with all investor expectations.\n",
      "\n",
      "### Recommendation\n",
      "- **Buy**: If you believe in Tesla's long-term vision of AI and robotics and are willing to accept short-term volatility and legal risks.\n",
      "- **Sell**: If you are concerned about the strategic shift away from core EV business, potential legal liabilities, and current financial challenges.\n",
      "- **Hold**: If you prefer to wait for more information on Tesla's strategic execution and legal outcomes before making a decision.\n",
      "\n",
      "Ultimately, the decision to buy, sell, or hold should consider your risk tolerance, investment horizon, and confidence in Tesla's strategic direction and leadership.\n"
     ]
    }
   ],
   "source": [
    "for chunk in graph.stream(\n",
    "    {\"messages\": [(\"user\", \"Would you invest in tesla?\")]}, stream_mode=\"values\"\n",
    "):\n",
    "    chunk['messages'][-1].pretty_print()"
   ]
  },
  {
   "cell_type": "code",
   "execution_count": null,
   "id": "9aefa767",
   "metadata": {},
   "outputs": [],
   "source": []
  }
 ],
 "metadata": {
  "kernelspec": {
   "display_name": "uv-work",
   "language": "python",
   "name": "python3"
  },
  "language_info": {
   "codemirror_mode": {
    "name": "ipython",
    "version": 3
   },
   "file_extension": ".py",
   "mimetype": "text/x-python",
   "name": "python",
   "nbconvert_exporter": "python",
   "pygments_lexer": "ipython3",
   "version": "3.11.9"
  }
 },
 "nbformat": 4,
 "nbformat_minor": 5
}
