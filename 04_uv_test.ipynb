{
 "cells": [
  {
   "cell_type": "code",
   "execution_count": 14,
   "id": "5b236757",
   "metadata": {},
   "outputs": [
    {
     "data": {
      "text/plain": [
       "True"
      ]
     },
     "execution_count": 14,
     "metadata": {},
     "output_type": "execute_result"
    }
   ],
   "source": [
    "from dotenv import load_dotenv\n",
    "\n",
    "load_dotenv()"
   ]
  },
  {
   "cell_type": "code",
   "execution_count": 15,
   "id": "cc8d56e7",
   "metadata": {},
   "outputs": [],
   "source": [
    "from typing_extensions import TypedDict\n",
    "from langgraph.graph import StateGraph\n",
    "\n",
    "class AgentState(TypedDict):\n",
    "    query: str # 사용자 질문\n",
    "    answer: str # 세율\n",
    "    tax_base_equation: str # 과세표준 계산 수식 \n",
    "    tax_deduction: str # 공제액 \n",
    "    market_ratio: str # 공정시장가액비율\n",
    "    tax_base: str # 과세표준 계산\n",
    "    \n",
    "graph_builder = StateGraph(AgentState)"
   ]
  },
  {
   "cell_type": "code",
   "execution_count": 16,
   "id": "7f3f5aa5",
   "metadata": {},
   "outputs": [
    {
     "data": {
      "text/plain": [
       "1"
      ]
     },
     "execution_count": 16,
     "metadata": {},
     "output_type": "execute_result"
    }
   ],
   "source": [
    "from langchain_community.document_loaders import TextLoader\n",
    "\n",
    "loader = TextLoader('./real_estate_tax.txt', encoding='utf-8')\n",
    "data = loader.load()\n",
    "len(data)"
   ]
  },
  {
   "cell_type": "code",
   "execution_count": null,
   "id": "42ccc162",
   "metadata": {},
   "outputs": [],
   "source": [
    "from langchain_text_splitters import RecursiveCharacterTextSplitter\n",
    "\n",
    "text_splitter = RecursiveCharacterTextSplitter(\n",
    "    chunk_size=1500,\n",
    "    chunk_overlap=200,\n",
    ")\n",
    "\n",
    "texts = text_splitter.split_documents(data)\n",
    "print(f\"생성된 텍스트 청크 수: {len(texts)}\")\n",
    "print(f\"각 청크의 길이: {list(len(text.page_content) for text in texts)}\")"
   ]
  },
  {
   "cell_type": "code",
   "execution_count": null,
   "id": "88a1c7b3",
   "metadata": {},
   "outputs": [],
   "source": [
    "from langchain_openai import OpenAIEmbeddings\n",
    "\n",
    "# OpenAI에서 제공하는 Embedding Model을 활용해서 `chunk`를 vector화\n",
    "embedding = OpenAIEmbeddings(model='text-embedding-3-large')"
   ]
  },
  {
   "cell_type": "code",
   "execution_count": 5,
   "id": "e65a6814",
   "metadata": {},
   "outputs": [],
   "source": [
    "from langchain_core.prompts import ChatPromptTemplate\n",
    "from pydantic import BaseModel, Field\n",
    "from typing import Literal\n",
    "from langchain_openai import ChatOpenAI\n",
    "\n",
    "# 라우팅 결과 구조 정의\n",
    "class Route(BaseModel):\n",
    "    target: Literal['income_tax', 'real_estate_tax', 'basic_llm', 'web_search'] = Field(\n",
    "        description=\"사용자 질문을 처리할 적절한 경로\"\n",
    "    )\n",
    "\n",
    "router_system_prompt = \"\"\"\n",
    "당신은 세금 전문가 질문 라우터입니다.\n",
    "사용자의 질문을 다음 중 어디로 보낼지 판단하세요:\n",
    "- 'income_tax': 소득세 관련 질문\n",
    "- 'real_estate_tax': 부동산세 관련 질문\n",
    "- 'basic_llm': 단순 질의 (벡터 검색 필요 없음)\n",
    "- 'web_search': 최신 정보 필요할 때\n",
    "\"\"\"\n",
    "\n",
    "router_prompt = ChatPromptTemplate.from_messages(\n",
    "    [\n",
    "        (\"system\", router_system_prompt),\n",
    "        (\"human\", \"{query}\")\n",
    "    ]\n",
    ")\n",
    "\n",
    "router_llm = ChatOpenAI(model=\"gpt-4o-mini\")\n",
    "structured_router_llm = router_llm.with_structured_output(Route)\n",
    "\n",
    "# 라우터 함수\n",
    "def router(state: AgentState) -> Literal['income_tax', 'real_estate_tax', 'basic_llm', 'web_search']:\n",
    "    query = state['query']\n",
    "    route_chain = router_prompt | structured_router_llm\n",
    "    route = route_chain.invoke({\"query\": query})\n",
    "    print(\"선택된 경로:\", route.target)\n",
    "    return route.target\n"
   ]
  },
  {
   "cell_type": "code",
   "execution_count": null,
   "id": "db04514e",
   "metadata": {},
   "outputs": [],
   "source": [
    "from langgraph.graph import START, END\n",
    "\n",
    "def income_tax_agent(state: AgentState) -> AgentState:\n",
    "    context = income_tax_retriever.invoke(state[\"query\"])\n",
    "    chain = (income_tax_prompt | llm | StrOutputParser())\n",
    "    state[\"answer\"] = chain.invoke({\"context\": context, \"query\": state[\"query\"]})\n",
    "    return state\n",
    "\n",
    "\n",
    "\n",
    "def real_estate_tax_agent(state: AgentState) -> AgentState:\n",
    "    \"\"\"\n",
    "    부동산세 관련 질문을 처리하는 노드입니다.\n",
    "    입력된 state의 query를 바탕으로 벡터DB와 LLM을 활용해 부동산세 정보를 반환합니다.\n",
    "    \n",
    "    Args:\n",
    "        state (AgentState): 현재 에이전트의 state 객체입니다.\n",
    "    \n",
    "    Returns:\n",
    "        AgentState: 'answer' 키에 부동산세 결과가 포함된 state를 반환합니다.\n",
    "    \"\"\"\n",
    "    state['answer'] = \"부동산세 계산 결과입니다.\"\n",
    "    return state\n",
    "\n",
    "\n",
    "def basic_llm(state: AgentState) -> AgentState:\n",
    "    \"\"\"\n",
    "    단순한 일반 질문을 처리하는 노드입니다.\n",
    "    벡터DB나 웹 검색을 거치지 않고, LLM의 직답으로 처리합니다.\n",
    "    \n",
    "    Args:\n",
    "        state (AgentState): 현재 에이전트의 state 객체입니다.\n",
    "    \n",
    "    Returns:\n",
    "        AgentState: 'answer' 키에 단순 질의 결과가 포함된 state를 반환합니다.\n",
    "    \"\"\"\n",
    "    state['answer'] = \"단순 질문에 대한 답변입니다.\"\n",
    "    return state\n",
    "\n",
    "\n",
    "def web_search(state: AgentState) -> AgentState:\n",
    "    \"\"\"\n",
    "    웹 검색이 필요한 질문을 처리하는 노드입니다.\n",
    "    주택 공시가격, 공정시장가액비율 등 최신 정보를 외부에서 검색해옵니다.\n",
    "    \n",
    "    node 함수로 동작하므로 `state`를 인자로 받지만,\n",
    "    고정된 기능(웹 검색)만 수행하기 때문에 내부적으로는 state를 활용하지 않습니다.\n",
    "    \n",
    "    Args:\n",
    "        state (AgentState): 현재 에이전트의 state 객체입니다.\n",
    "    \n",
    "    Returns:\n",
    "        AgentState: 'market_ratio' 또는 'answer' 키를 포함해 업데이트된 state를 반환합니다.\n",
    "    \"\"\"\n",
    "    state['market_ratio'] = \"웹 검색을 통해 가져온 공정시장가액비율 예시값\"\n",
    "    return state\n",
    "\n",
    "\n",
    "def web_generate(state: AgentState) -> AgentState:\n",
    "    \"\"\"\n",
    "    웹 검색 결과를 바탕으로 최종 답변을 생성하는 노드입니다.\n",
    "    `web_search` 단계에서 가져온 정보를 LLM과 결합하여 자연스러운 답변을 만듭니다.\n",
    "    \n",
    "    Args:\n",
    "        state (AgentState): 현재 에이전트의 state 객체입니다.\n",
    "    \n",
    "    Returns:\n",
    "        AgentState: 'answer' 키에 최종 답변이 포함된 state를 반환합니다.\n",
    "    \"\"\"\n",
    "    state['answer'] = f\"웹 검색 기반 최종 답변입니다. (시장비율: {state.get('market_ratio', '없음')})\"\n",
    "    return state\n",
    "\n"
   ]
  },
  {
   "cell_type": "code",
   "execution_count": 9,
   "id": "8255ab52",
   "metadata": {},
   "outputs": [],
   "source": [
    "graph_builder = StateGraph(AgentState)\n",
    "\n",
    "# 노드 추가\n",
    "graph_builder.add_node(\"income_tax\", income_tax_agent)\n",
    "graph_builder.add_node(\"real_estate_tax\", real_estate_tax_agent)\n",
    "graph_builder.add_node(\"basic_llm\", basic_llm)\n",
    "graph_builder.add_node(\"web_search\", web_search)\n",
    "graph_builder.add_node(\"web_generate\", web_generate)\n",
    "\n",
    "# 조건부 라우팅\n",
    "graph_builder.add_conditional_edges(\n",
    "    START,\n",
    "    router,\n",
    "    {\n",
    "        \"income_tax\": \"income_tax\",\n",
    "        \"real_estate_tax\": \"real_estate_tax\",\n",
    "        \"basic_llm\": \"basic_llm\",\n",
    "        \"web_search\": \"web_search\"\n",
    "    }\n",
    ")\n",
    "\n",
    "# 웹 검색 후 generate\n",
    "graph_builder.add_edge(\"web_search\", \"web_generate\")\n",
    "\n",
    "# 종료 지점 연결\n",
    "graph_builder.add_edge(\"income_tax\", END)\n",
    "graph_builder.add_edge(\"real_estate_tax\", END)\n",
    "graph_builder.add_edge(\"basic_llm\", END)\n",
    "graph_builder.add_edge(\"web_generate\", END)\n",
    "\n",
    "# 그래프 완성\n",
    "graph = graph_builder.compile()\n"
   ]
  },
  {
   "cell_type": "code",
   "execution_count": null,
   "id": "42b04b76",
   "metadata": {},
   "outputs": [
    {
     "ename": "RuntimeError",
     "evalue": "asyncio.run() cannot be called from a running event loop",
     "output_type": "error",
     "traceback": [
      "\u001b[1;31m---------------------------------------------------------------------------\u001b[0m",
      "\u001b[1;31mRuntimeError\u001b[0m                              Traceback (most recent call last)",
      "Cell \u001b[1;32mIn[13], line 5\u001b[0m\n\u001b[0;32m      2\u001b[0m \u001b[38;5;28;01mfrom\u001b[39;00m \u001b[38;5;21;01mPIL\u001b[39;00m \u001b[38;5;28;01mimport\u001b[39;00m Image\n\u001b[0;32m      3\u001b[0m \u001b[38;5;28;01mfrom\u001b[39;00m \u001b[38;5;21;01mIPython\u001b[39;00m\u001b[38;5;21;01m.\u001b[39;00m\u001b[38;5;21;01mdisplay\u001b[39;00m \u001b[38;5;28;01mimport\u001b[39;00m display\n\u001b[1;32m----> 5\u001b[0m png \u001b[38;5;241m=\u001b[39m \u001b[43mgraph\u001b[49m\u001b[38;5;241;43m.\u001b[39;49m\u001b[43mget_graph\u001b[49m\u001b[43m(\u001b[49m\u001b[43m)\u001b[49m\u001b[38;5;241;43m.\u001b[39;49m\u001b[43mdraw_mermaid_png\u001b[49m\u001b[43m(\u001b[49m\n\u001b[0;32m      6\u001b[0m \u001b[43m    \u001b[49m\u001b[43mdraw_method\u001b[49m\u001b[38;5;241;43m=\u001b[39;49m\u001b[43mMermaidDrawMethod\u001b[49m\u001b[38;5;241;43m.\u001b[39;49m\u001b[43mPYPPETEER\u001b[49m\u001b[43m,\u001b[49m\u001b[43m  \u001b[49m\u001b[38;5;66;43;03m# ✅ 로컬 브라우저 렌더링 사용\u001b[39;49;00m\n\u001b[0;32m      7\u001b[0m \u001b[43m    \u001b[49m\u001b[43mmax_retries\u001b[49m\u001b[38;5;241;43m=\u001b[39;49m\u001b[38;5;241;43m5\u001b[39;49m\u001b[43m,\u001b[49m\n\u001b[0;32m      8\u001b[0m \u001b[43m    \u001b[49m\u001b[43mretry_delay\u001b[49m\u001b[38;5;241;43m=\u001b[39;49m\u001b[38;5;241;43m2.0\u001b[39;49m\n\u001b[0;32m      9\u001b[0m \u001b[43m)\u001b[49m\n\u001b[0;32m     11\u001b[0m display(Image(png))\n",
      "File \u001b[1;32mc:\\workspace\\uv_work\\.venv\\Lib\\site-packages\\langchain_core\\runnables\\graph.py:693\u001b[0m, in \u001b[0;36mGraph.draw_mermaid_png\u001b[1;34m(self, curve_style, node_colors, wrap_label_n_words, output_file_path, draw_method, background_color, padding, max_retries, retry_delay, frontmatter_config)\u001b[0m\n\u001b[0;32m    685\u001b[0m \u001b[38;5;28;01mfrom\u001b[39;00m \u001b[38;5;21;01mlangchain_core\u001b[39;00m\u001b[38;5;21;01m.\u001b[39;00m\u001b[38;5;21;01mrunnables\u001b[39;00m\u001b[38;5;21;01m.\u001b[39;00m\u001b[38;5;21;01mgraph_mermaid\u001b[39;00m \u001b[38;5;28;01mimport\u001b[39;00m draw_mermaid_png\n\u001b[0;32m    687\u001b[0m mermaid_syntax \u001b[38;5;241m=\u001b[39m \u001b[38;5;28mself\u001b[39m\u001b[38;5;241m.\u001b[39mdraw_mermaid(\n\u001b[0;32m    688\u001b[0m     curve_style\u001b[38;5;241m=\u001b[39mcurve_style,\n\u001b[0;32m    689\u001b[0m     node_colors\u001b[38;5;241m=\u001b[39mnode_colors,\n\u001b[0;32m    690\u001b[0m     wrap_label_n_words\u001b[38;5;241m=\u001b[39mwrap_label_n_words,\n\u001b[0;32m    691\u001b[0m     frontmatter_config\u001b[38;5;241m=\u001b[39mfrontmatter_config,\n\u001b[0;32m    692\u001b[0m )\n\u001b[1;32m--> 693\u001b[0m \u001b[38;5;28;01mreturn\u001b[39;00m \u001b[43mdraw_mermaid_png\u001b[49m\u001b[43m(\u001b[49m\n\u001b[0;32m    694\u001b[0m \u001b[43m    \u001b[49m\u001b[43mmermaid_syntax\u001b[49m\u001b[38;5;241;43m=\u001b[39;49m\u001b[43mmermaid_syntax\u001b[49m\u001b[43m,\u001b[49m\n\u001b[0;32m    695\u001b[0m \u001b[43m    \u001b[49m\u001b[43moutput_file_path\u001b[49m\u001b[38;5;241;43m=\u001b[39;49m\u001b[43moutput_file_path\u001b[49m\u001b[43m,\u001b[49m\n\u001b[0;32m    696\u001b[0m \u001b[43m    \u001b[49m\u001b[43mdraw_method\u001b[49m\u001b[38;5;241;43m=\u001b[39;49m\u001b[43mdraw_method\u001b[49m\u001b[43m,\u001b[49m\n\u001b[0;32m    697\u001b[0m \u001b[43m    \u001b[49m\u001b[43mbackground_color\u001b[49m\u001b[38;5;241;43m=\u001b[39;49m\u001b[43mbackground_color\u001b[49m\u001b[43m,\u001b[49m\n\u001b[0;32m    698\u001b[0m \u001b[43m    \u001b[49m\u001b[43mpadding\u001b[49m\u001b[38;5;241;43m=\u001b[39;49m\u001b[43mpadding\u001b[49m\u001b[43m,\u001b[49m\n\u001b[0;32m    699\u001b[0m \u001b[43m    \u001b[49m\u001b[43mmax_retries\u001b[49m\u001b[38;5;241;43m=\u001b[39;49m\u001b[43mmax_retries\u001b[49m\u001b[43m,\u001b[49m\n\u001b[0;32m    700\u001b[0m \u001b[43m    \u001b[49m\u001b[43mretry_delay\u001b[49m\u001b[38;5;241;43m=\u001b[39;49m\u001b[43mretry_delay\u001b[49m\u001b[43m,\u001b[49m\n\u001b[0;32m    701\u001b[0m \u001b[43m\u001b[49m\u001b[43m)\u001b[49m\n",
      "File \u001b[1;32mc:\\workspace\\uv_work\\.venv\\Lib\\site-packages\\langchain_core\\runnables\\graph_mermaid.py:287\u001b[0m, in \u001b[0;36mdraw_mermaid_png\u001b[1;34m(mermaid_syntax, output_file_path, draw_method, background_color, padding, max_retries, retry_delay)\u001b[0m\n\u001b[0;32m    284\u001b[0m \u001b[38;5;28;01mif\u001b[39;00m draw_method \u001b[38;5;241m==\u001b[39m MermaidDrawMethod\u001b[38;5;241m.\u001b[39mPYPPETEER:\n\u001b[0;32m    285\u001b[0m     \u001b[38;5;28;01mimport\u001b[39;00m \u001b[38;5;21;01masyncio\u001b[39;00m\n\u001b[1;32m--> 287\u001b[0m     img_bytes \u001b[38;5;241m=\u001b[39m \u001b[43masyncio\u001b[49m\u001b[38;5;241;43m.\u001b[39;49m\u001b[43mrun\u001b[49m\u001b[43m(\u001b[49m\n\u001b[0;32m    288\u001b[0m \u001b[43m        \u001b[49m\u001b[43m_render_mermaid_using_pyppeteer\u001b[49m\u001b[43m(\u001b[49m\n\u001b[0;32m    289\u001b[0m \u001b[43m            \u001b[49m\u001b[43mmermaid_syntax\u001b[49m\u001b[43m,\u001b[49m\u001b[43m \u001b[49m\u001b[43moutput_file_path\u001b[49m\u001b[43m,\u001b[49m\u001b[43m \u001b[49m\u001b[43mbackground_color\u001b[49m\u001b[43m,\u001b[49m\u001b[43m \u001b[49m\u001b[43mpadding\u001b[49m\n\u001b[0;32m    290\u001b[0m \u001b[43m        \u001b[49m\u001b[43m)\u001b[49m\n\u001b[0;32m    291\u001b[0m \u001b[43m    \u001b[49m\u001b[43m)\u001b[49m\n\u001b[0;32m    292\u001b[0m \u001b[38;5;28;01melif\u001b[39;00m draw_method \u001b[38;5;241m==\u001b[39m MermaidDrawMethod\u001b[38;5;241m.\u001b[39mAPI:\n\u001b[0;32m    293\u001b[0m     img_bytes \u001b[38;5;241m=\u001b[39m _render_mermaid_using_api(\n\u001b[0;32m    294\u001b[0m         mermaid_syntax,\n\u001b[0;32m    295\u001b[0m         output_file_path\u001b[38;5;241m=\u001b[39moutput_file_path,\n\u001b[1;32m   (...)\u001b[0m\n\u001b[0;32m    298\u001b[0m         retry_delay\u001b[38;5;241m=\u001b[39mretry_delay,\n\u001b[0;32m    299\u001b[0m     )\n",
      "File \u001b[1;32m~\\AppData\\Local\\Programs\\Python\\Python311\\Lib\\asyncio\\runners.py:186\u001b[0m, in \u001b[0;36mrun\u001b[1;34m(main, debug)\u001b[0m\n\u001b[0;32m    161\u001b[0m \u001b[38;5;250m\u001b[39m\u001b[38;5;124;03m\"\"\"Execute the coroutine and return the result.\u001b[39;00m\n\u001b[0;32m    162\u001b[0m \n\u001b[0;32m    163\u001b[0m \u001b[38;5;124;03mThis function runs the passed coroutine, taking care of\u001b[39;00m\n\u001b[1;32m   (...)\u001b[0m\n\u001b[0;32m    182\u001b[0m \u001b[38;5;124;03m    asyncio.run(main())\u001b[39;00m\n\u001b[0;32m    183\u001b[0m \u001b[38;5;124;03m\"\"\"\u001b[39;00m\n\u001b[0;32m    184\u001b[0m \u001b[38;5;28;01mif\u001b[39;00m events\u001b[38;5;241m.\u001b[39m_get_running_loop() \u001b[38;5;129;01mis\u001b[39;00m \u001b[38;5;129;01mnot\u001b[39;00m \u001b[38;5;28;01mNone\u001b[39;00m:\n\u001b[0;32m    185\u001b[0m     \u001b[38;5;66;03m# fail fast with short traceback\u001b[39;00m\n\u001b[1;32m--> 186\u001b[0m     \u001b[38;5;28;01mraise\u001b[39;00m \u001b[38;5;167;01mRuntimeError\u001b[39;00m(\n\u001b[0;32m    187\u001b[0m         \u001b[38;5;124m\"\u001b[39m\u001b[38;5;124masyncio.run() cannot be called from a running event loop\u001b[39m\u001b[38;5;124m\"\u001b[39m)\n\u001b[0;32m    189\u001b[0m \u001b[38;5;28;01mwith\u001b[39;00m Runner(debug\u001b[38;5;241m=\u001b[39mdebug) \u001b[38;5;28;01mas\u001b[39;00m runner:\n\u001b[0;32m    190\u001b[0m     \u001b[38;5;28;01mreturn\u001b[39;00m runner\u001b[38;5;241m.\u001b[39mrun(main)\n",
      "\u001b[1;31mRuntimeError\u001b[0m: asyncio.run() cannot be called from a running event loop"
     ]
    }
   ],
   "source": [
    "from IPython.display import Image, display\n",
    "\n",
    "display(Image(graph.get_graph().draw_mermaid_png()))\n"
   ]
  },
  {
   "cell_type": "code",
   "execution_count": null,
   "id": "4f247af2",
   "metadata": {},
   "outputs": [],
   "source": []
  }
 ],
 "metadata": {
  "kernelspec": {
   "display_name": "uv-work",
   "language": "python",
   "name": "python3"
  },
  "language_info": {
   "codemirror_mode": {
    "name": "ipython",
    "version": 3
   },
   "file_extension": ".py",
   "mimetype": "text/x-python",
   "name": "python",
   "nbconvert_exporter": "python",
   "pygments_lexer": "ipython3",
   "version": "3.11.9"
  }
 },
 "nbformat": 4,
 "nbformat_minor": 5
}
