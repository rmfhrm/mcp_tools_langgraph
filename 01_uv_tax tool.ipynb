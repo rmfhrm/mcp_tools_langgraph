{
 "cells": [
  {
   "cell_type": "code",
   "execution_count": 5,
   "id": "39d8239f",
   "metadata": {},
   "outputs": [
    {
     "data": {
      "text/plain": [
       "True"
      ]
     },
     "execution_count": 5,
     "metadata": {},
     "output_type": "execute_result"
    }
   ],
   "source": [
    "from dotenv import load_dotenv\n",
    "load_dotenv()"
   ]
  },
  {
   "cell_type": "code",
   "execution_count": 6,
   "id": "ff1c09b5",
   "metadata": {},
   "outputs": [],
   "source": [
    "# ===== 문서 로딩 & 분할 =====\n",
    "from langchain_community.document_loaders import Docx2txtLoader\n",
    "from langchain_text_splitters import RecursiveCharacterTextSplitter\n",
    "\n",
    "text_splitter = RecursiveCharacterTextSplitter(chunk_size=1498, chunk_overlap=198)\n",
    "loader = Docx2txtLoader('./tax.docx')\n",
    "temp = loader.load_and_split(text_splitter=text_splitter)\n",
    "document_list = temp[0:80]"
   ]
  },
  {
   "cell_type": "code",
   "execution_count": 7,
   "id": "2df1974c",
   "metadata": {},
   "outputs": [],
   "source": [
    "# ===== 임베딩 & Vector DB =====\n",
    "from langchain_openai import OpenAIEmbeddings\n",
    "from langchain_chroma import Chroma\n",
    "\n",
    "embedding = OpenAIEmbeddings(model='text-embedding-3-large')\n",
    "\n",
    "vector_store = Chroma(\n",
    "    collection_name='chroma-tax',\n",
    "    embedding_function=embedding,\n",
    "    persist_directory='./chroma-tax'\n",
    ")\n",
    "retriever = vector_store.as_retriever(search_kwargs={'k':3})"
   ]
  },
  {
   "cell_type": "code",
   "execution_count": 8,
   "id": "1eef8fec",
   "metadata": {},
   "outputs": [],
   "source": [
    "# ===== 상태 정의 =====\n",
    "from typing_extensions import List, TypedDict\n",
    "from langchain_core.documents import Document\n",
    "from langgraph.graph import StateGraph, START, END\n",
    "\n",
    "class AgentState(TypedDict):\n",
    "    query: str\n",
    "    context: List[Document]\n",
    "    answer: str"
   ]
  },
  {
   "cell_type": "code",
   "execution_count": 9,
   "id": "f1267df0",
   "metadata": {},
   "outputs": [
    {
     "name": "stderr",
     "output_type": "stream",
     "text": [
      "c:\\workspace\\uv_work\\.venv\\Lib\\site-packages\\langsmith\\client.py:256: LangSmithMissingAPIKeyWarning: API key must be provided when using hosted LangSmith API\n",
      "  warnings.warn(\n"
     ]
    }
   ],
   "source": [
    "# ===== LLM 준비 =====\n",
    "from langchain_openai import ChatOpenAI\n",
    "llm = ChatOpenAI(model='gpt-4o-mini')\n",
    "\n",
    "# ===== RAG 기반 generate =====\n",
    "from langchain import hub\n",
    "generate_prompt = hub.pull('rlm/rag-prompt')\n",
    "\n",
    "def generate(state: AgentState) -> AgentState:\n",
    "    context = state['context']\n",
    "    query = state['query']\n",
    "    rag_chain = generate_prompt | llm\n",
    "    response = rag_chain.invoke({'question': query, 'context': context})\n",
    "    state['answer'] = response\n",
    "    return state"
   ]
  },
  {
   "cell_type": "code",
   "execution_count": 10,
   "id": "67e4fb33",
   "metadata": {},
   "outputs": [
    {
     "name": "stderr",
     "output_type": "stream",
     "text": [
      "c:\\workspace\\uv_work\\.venv\\Lib\\site-packages\\langsmith\\client.py:256: LangSmithMissingAPIKeyWarning: API key must be provided when using hosted LangSmith API\n",
      "  warnings.warn(\n"
     ]
    }
   ],
   "source": [
    "# ===== 문서 관련성 판단 =====\n",
    "doc_releveance_prompt = hub.pull(\"langchain-ai/rag-document-relevance\")\n",
    "\n",
    "def check_doc_relevence(state: AgentState):\n",
    "    query = state['query']\n",
    "    context = state['context']\n",
    "    doc_relevance_chain = doc_releveance_prompt | llm\n",
    "    response = doc_relevance_chain.invoke({'question': query, 'documents': context})\n",
    "    return 'generate' if response['Score'] == 1 else 'rewrite'"
   ]
  },
  {
   "cell_type": "code",
   "execution_count": 11,
   "id": "c5907cfd",
   "metadata": {},
   "outputs": [],
   "source": [
    "# ===== rewrite =====\n",
    "from langchain_core.prompts import PromptTemplate\n",
    "from langchain_core.output_parsers import StrOutputParser\n",
    "\n",
    "dictionary = ['사랑과 관련된 표현 -> 거주자']\n",
    "rewrite_prompt = PromptTemplate.from_template(f\"\"\"\n",
    "사용자의 질문을 보고, 우리 사전을 참고해서 사용자의 질문을 변경해 주세요.\n",
    "사전: {dictionary}\n",
    "질문: {{query}}\n",
    "\"\"\")\n",
    "\n",
    "def rewrite(state: AgentState) -> AgentState:\n",
    "    query = state['query']\n",
    "    rewrite_chain = rewrite_prompt | llm | StrOutputParser()\n",
    "    response = rewrite_chain.invoke({'query': query})\n",
    "    state['query'] = response\n",
    "    return state\n"
   ]
  },
  {
   "cell_type": "code",
   "execution_count": 12,
   "id": "ab39adce",
   "metadata": {},
   "outputs": [],
   "source": [
    "# ===== tools =====\n",
    "def tools(state: AgentState) -> AgentState:\n",
    "    \"\"\"\n",
    "    Tools 노드: generate/rewrite 수행 후 agent로 돌아감\n",
    "    \"\"\"\n",
    "    next_step = check_doc_relevence(state)\n",
    "    if next_step == 'generate':\n",
    "        return generate(state)\n",
    "    else:\n",
    "        rewritten_state = rewrite(state)\n",
    "        return rewritten_state"
   ]
  },
  {
   "cell_type": "code",
   "execution_count": 20,
   "id": "49b2269b",
   "metadata": {},
   "outputs": [],
   "source": [
    "# ===== StateGraph 구성 =====\n",
    "builder = StateGraph(AgentState)\n",
    "builder.add_node(\"agent\", lambda s: s)  # retrieve 대신 lambda 예시\n",
    "builder.add_node(\"tools\", tools)\n",
    "\n",
    "builder.add_edge(START, 'agent')\n",
    "builder.add_edge('agent', END)        # agent에서 바로 END 가능\n",
    "builder.add_edge('agent', 'tools')    # agent에서 tools로 분기\n",
    "builder.add_edge('tools', 'agent')    # tools 처리 후 agent로 돌아감\n",
    "\n",
    "graph = builder.compile()"
   ]
  },
  {
   "cell_type": "code",
   "execution_count": 21,
   "id": "214f0952",
   "metadata": {},
   "outputs": [
    {
     "data": {
      "image/png": "[encoded data removed]",
      "text/plain": [
       "<IPython.core.display.Image object>"
      ]
     },
     "metadata": {},
     "output_type": "display_data"
    }
   ],
   "source": [
    "from IPython.display import Image, display\n",
    "\n",
    "display(Image(graph.get_graph().draw_mermaid_png()))\n"
   ]
  },
  {
   "cell_type": "markdown",
   "id": "6ccc6e1b",
   "metadata": {},
   "source": [
    "### 내가 해본 방법"
   ]
  },
  {
   "cell_type": "code",
   "execution_count": 16,
   "id": "ecffbf5f",
   "metadata": {},
   "outputs": [],
   "source": [
    "# 검색\n",
    "def retrieve(state: AgentState) -> AgentState:\n",
    "    query = state[\"query\"]\n",
    "    docs = retriever.get_relevant_documents(query)\n",
    "    return {**state, \"context\": docs}\n",
    "\n",
    "# 답변 생성\n",
    "def generate(state: AgentState) -> AgentState:\n",
    "    context_texts = \"\\n\".join([d.page_content for d in state[\"context\"]])\n",
    "    answer = llm.invoke(f\"질문: {state['query']}\\n\\n참고 문맥:\\n{context_texts}\")\n",
    "    return {**state, \"answer\": answer.content}\n",
    "\n",
    "# 질문 리라이트\n",
    "def rewrite(state: AgentState) -> AgentState:\n",
    "    new_query = llm.invoke(f\"다음 질문을 더 검색 친화적으로 다시 써줘: {state['query']}\")\n",
    "    return {**state, \"query\": new_query.content}"
   ]
  },
  {
   "cell_type": "code",
   "execution_count": 17,
   "id": "4950ceb2",
   "metadata": {},
   "outputs": [],
   "source": [
    "from langgraph.graph import StateGraph, START, END\n",
    "\n",
    "builder = StateGraph(AgentState)\n",
    "\n",
    "# 노드 등록\n",
    "builder.add_node(\"retrieve\", retrieve)\n",
    "builder.add_node(\"generate\", generate)\n",
    "builder.add_node(\"rewrite\", rewrite)\n",
    "\n",
    "# 분기 연결\n",
    "builder.add_edge(START, \"retrieve\")\n",
    "\n",
    "# retrieve → generate or rewrite (조건 분기)\n",
    "def branch_after_retrieve(state: AgentState):\n",
    "    if len(state[\"context\"]) > 0:   \n",
    "        return \"generate\"\n",
    "    else:                           \n",
    "        return \"rewrite\"\n",
    "\n",
    "builder.add_conditional_edges(\"retrieve\", branch_after_retrieve,\n",
    "                              {\"generate\": \"generate\", \"rewrite\": \"rewrite\"})\n",
    "\n",
    "# generate → END\n",
    "builder.add_edge(\"generate\", END)\n",
    "\n",
    "# rewrite → retrieve (루프)\n",
    "builder.add_edge(\"rewrite\", \"retrieve\")\n",
    "\n",
    "graph = builder.compile()\n"
   ]
  },
  {
   "cell_type": "code",
   "execution_count": 18,
   "id": "cdcd2ef1",
   "metadata": {},
   "outputs": [
    {
     "data": {
      "image/png": "[encoded data removed]",
      "text/plain": [
       "<IPython.core.display.Image object>"
      ]
     },
     "metadata": {},
     "output_type": "display_data"
    }
   ],
   "source": [
    "from IPython.display import Image, display\n",
    "\n",
    "display(Image(graph.get_graph().draw_mermaid_png()))"
   ]
  },
  {
   "cell_type": "code",
   "execution_count": 19,
   "id": "5ae1eee4",
   "metadata": {},
   "outputs": [
    {
     "name": "stderr",
     "output_type": "stream",
     "text": [
      "C:\\Users\\USER\\AppData\\Local\\Temp\\ipykernel_17032\\3918439501.py:4: LangChainDeprecationWarning: The method `BaseRetriever.get_relevant_documents` was deprecated in langchain-core 0.1.46 and will be removed in 1.0. Use :meth:`~invoke` instead.\n",
      "  docs = retriever.get_relevant_documents(query)\n"
     ]
    },
    {
     "name": "stdout",
     "output_type": "stream",
     "text": [
      "연봉 5천만원을 받는 직장인의 소득세는 다음과 같이 대략적으로 계산할 수 있습니다. 한국의 소득세는 누진세 구조로 되어 있어, 소득 구간에 따라 세율이 다르게 적용됩니다.\n",
      "\n",
      "2023년 기준으로, 개인소득세의 세율은 다음과 같습니다:\n",
      "\n",
      "- 1,200만원 이하: 6%\n",
      "- 1,200만원 초과 ~ 4,600만원 이하: 15%\n",
      "- 4,600만원 초과 ~ 8,800만원 이하: 24%\n",
      "\n",
      "연봉 5천만원의 경우, 세금 계산은 다음과 같습니다.\n",
      "\n",
      "1. **과세표준 계산**: 연봉 5천만원에서 비과세 소득이나 공제를 제외한 금액을 과세표준으로 합니다. 여기서는 간단화를 위해 비과세 소득이나 공제를 고려하지 않고 계산하겠습니다.\n",
      "\n",
      "2. **소득세 계산**:\n",
      "   - 1,200만원까지: 1,200만원 × 6% = 72만원\n",
      "   - 1,200만원 초과 4,600만원까지: (4,600만원 - 1,200만원) × 15% = 51만원\n",
      "   - 4,600만원 초과 5,000만원까지: (5,000만원 - 4,600만원) × 24% = 96만원\n",
      "\n",
      "3. **총 소득세**: \n",
      "   - 72만원 + 51만원 + 96만원 = 219만원\n",
      "\n",
      "따라서, 연봉 5천만원을 받는 직장인의 대략적인 소득세는 약 219만원입니다. 다만, 개인의 세무 상황에 따라 공제 항목이나 추가 세금이 있을 수 있으므로, 정확한 세액은 세무사와 상담하거나 국세청의 세금 계산기를 이용하는 것이 좋습니다.\n"
     ]
    }
   ],
   "source": [
    "inputs = {\"query\": \"연봉 5천만원 직장인의 소득세는? \", \"context\": [], \"answer\": \"\"}\n",
    "result = graph.invoke(inputs)\n",
    "print(result[\"answer\"])"
   ]
  }
 ],
 "metadata": {
  "kernelspec": {
   "display_name": "uv-work",
   "language": "python",
   "name": "python3"
  },
  "language_info": {
   "codemirror_mode": {
    "name": "ipython",
    "version": 3
   },
   "file_extension": ".py",
   "mimetype": "text/x-python",
   "name": "python",
   "nbconvert_exporter": "python",
   "pygments_lexer": "ipython3",
   "version": "3.11.9"
  }
 },
 "nbformat": 4,
 "nbformat_minor": 5
}
