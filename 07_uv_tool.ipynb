{
 "cells": [
  {
   "cell_type": "code",
   "execution_count": 1,
   "id": "1b3cbbec",
   "metadata": {},
   "outputs": [
    {
     "data": {
      "text/plain": [
       "True"
      ]
     },
     "execution_count": 1,
     "metadata": {},
     "output_type": "execute_result"
    }
   ],
   "source": [
    "from dotenv import load_dotenv\n",
    "\n",
    "load_dotenv()"
   ]
  },
  {
   "cell_type": "code",
   "execution_count": 2,
   "id": "5b42d9c7",
   "metadata": {},
   "outputs": [],
   "source": [
    "from langchain_openai import ChatOpenAI\n",
    "\n",
    "llm = ChatOpenAI(model='gpt-4o', streaming=True)\n",
    "small_llm = ChatOpenAI(model='gpt-4o-mini', streaming=True)"
   ]
  },
  {
   "cell_type": "code",
   "execution_count": 3,
   "id": "1d991f53",
   "metadata": {},
   "outputs": [],
   "source": [
    "from langchain_core.tools import tool\n",
    "\n",
    "@tool\n",
    "def add(a: int, b: int) -> int:\n",
    "    \"\"\"숫자 a와 b를 더합니다.\"\"\"\n",
    "    return a + b\n",
    "\n",
    "@tool\n",
    "def multiply(a: int, b: int) -> int:\n",
    "    \"\"\"숫자 a와 b를 곱합니다.\"\"\"\n",
    "    return a * b"
   ]
  },
  {
   "cell_type": "code",
   "execution_count": 4,
   "id": "dccf29ad",
   "metadata": {},
   "outputs": [],
   "source": [
    "from langgraph.prebuilt import ToolNode\n",
    "\n",
    "tool_list = [add, multiply]\n",
    "llm_with_tools = llm.bind_tools(tool_list) # 2개의 tool을 가지고 있다고 보면 된다.\n",
    "tool_node = ToolNode(tool_list)"
   ]
  },
  {
   "cell_type": "code",
   "execution_count": 5,
   "id": "21250869",
   "metadata": {},
   "outputs": [],
   "source": [
    "ai_message = llm_with_tools.invoke('What is 3 plus 5?')"
   ]
  },
  {
   "cell_type": "code",
   "execution_count": 6,
   "id": "a853bd9e",
   "metadata": {},
   "outputs": [
    {
     "data": {
      "text/plain": [
       "AIMessage(content='', additional_kwargs={'tool_calls': [{'index': 0, 'id': 'call_LL0o0sM8XqHSptEYzh9xXeKw', 'function': {'arguments': '{\"a\":3,\"b\":5}', 'name': 'add'}, 'type': 'function'}]}, response_metadata={'finish_reason': 'tool_calls', 'model_name': 'gpt-4o-2024-08-06', 'system_fingerprint': 'fp_f33640a400'}, id='run--2d7d58e0-85e3-4e36-b564-cbd5ea7f11b2-0', tool_calls=[{'name': 'add', 'args': {'a': 3, 'b': 5}, 'id': 'call_LL0o0sM8XqHSptEYzh9xXeKw', 'type': 'tool_call'}])"
      ]
     },
     "execution_count": 6,
     "metadata": {},
     "output_type": "execute_result"
    }
   ],
   "source": [
    "ai_message"
   ]
  },
  {
   "cell_type": "code",
   "execution_count": 7,
   "id": "eb83c674",
   "metadata": {},
   "outputs": [
    {
     "data": {
      "text/plain": [
       "{'messages': [ToolMessage(content='8', name='add', tool_call_id='call_LL0o0sM8XqHSptEYzh9xXeKw')]}"
      ]
     },
     "execution_count": 7,
     "metadata": {},
     "output_type": "execute_result"
    }
   ],
   "source": [
    " # tool_node는 toll 호출할떄 사용 tool중 알아서 어떤 tool을 호출할지 스스로 판단\n",
    "\n",
    "tool_node.invoke({'messages': [ai_message]})"
   ]
  },
  {
   "cell_type": "code",
   "execution_count": 8,
   "id": "c67b8fd9",
   "metadata": {},
   "outputs": [],
   "source": [
    "from langgraph.graph import MessagesState, StateGraph #tool 사용시 MessagesState 필수\n",
    "\n",
    "# class AgentState(MessagesState) 이것을 사용 안해도 밑에 있는걸 사용하면 가능\n",
    "graph_builder = StateGraph(MessagesState) # messages 존재 \n",
    "# messages라는 속성을 사용가능하게 된다(존재한다는 것을 알림)"
   ]
  },
  {
   "cell_type": "code",
   "execution_count": 9,
   "id": "92c1f9db",
   "metadata": {},
   "outputs": [],
   "source": [
    "def agent(state: MessagesState) -> MessagesState:\n",
    "    messages = state['messages']\n",
    "    response = llm_with_tools.invoke(messages)\n",
    "\n",
    "    return{'messages': [response]}"
   ]
  },
  {
   "cell_type": "code",
   "execution_count": 10,
   "id": "60807257",
   "metadata": {},
   "outputs": [],
   "source": [
    "from typing import Literal\n",
    "from langgraph.graph import END\n",
    "\n",
    "def should_continue(state: MessagesState) -> Literal['tools', END]:\n",
    "    messages = state['messages']\n",
    "    last_ai_message = messages[-1]\n",
    "\n",
    "    if last_ai_message.tool_calls:\n",
    "        return 'tools'\n",
    "    \n",
    "    return END"
   ]
  },
  {
   "cell_type": "code",
   "execution_count": 11,
   "id": "498395d0",
   "metadata": {},
   "outputs": [
    {
     "data": {
      "text/plain": [
       "<langgraph.graph.state.StateGraph at 0x2733ed36750>"
      ]
     },
     "execution_count": 11,
     "metadata": {},
     "output_type": "execute_result"
    }
   ],
   "source": [
    "graph_builder.add_node('agent', agent)\n",
    "graph_builder.add_node('tools', tool_node) # tool_node node로 사용가능? 가능하다? 왜?"
   ]
  },
  {
   "cell_type": "markdown",
   "id": "7c112cfd",
   "metadata": {},
   "source": [
    "### 2가지 방법중 하나 선택 둘다 가능\n"
   ]
  },
  {
   "cell_type": "markdown",
   "id": "c7fdbb72",
   "metadata": {},
   "source": [
    "    'agent',\n",
    "    should_continue,\n",
    "    ['tools', END]\n",
    "    \n",
    "     should_continue,\n",
    "     {\n",
    "         'tools': \"tools\",\n",
    "         'end': END\n",
    "     }"
   ]
  },
  {
   "cell_type": "code",
   "execution_count": 12,
   "id": "175c3d28",
   "metadata": {},
   "outputs": [
    {
     "data": {
      "text/plain": [
       "<langgraph.graph.state.StateGraph at 0x2733ed36750>"
      ]
     },
     "execution_count": 12,
     "metadata": {},
     "output_type": "execute_result"
    }
   ],
   "source": [
    "from langgraph.graph import START, END\n",
    "\n",
    "graph_builder.add_edge(START, 'agent')\n",
    "graph_builder.add_conditional_edges(\n",
    "    'agent',\n",
    "    should_continue,\n",
    "    ['tools', END]\n",
    "\n",
    ")\n",
    "\n",
    "graph_builder.add_edge('tools', 'agent')"
   ]
  },
  {
   "cell_type": "code",
   "execution_count": 13,
   "id": "9cba0ba8",
   "metadata": {},
   "outputs": [],
   "source": [
    "graph = graph_builder.compile()"
   ]
  },
  {
   "cell_type": "code",
   "execution_count": 14,
   "id": "4dcbea5c",
   "metadata": {},
   "outputs": [
    {
     "data": {
      "image/png": "[encoded data removed]",
      "text/plain": [
       "<langgraph.graph.state.CompiledStateGraph object at 0x000002733EECC150>"
      ]
     },
     "execution_count": 14,
     "metadata": {},
     "output_type": "execute_result"
    }
   ],
   "source": [
    "graph"
   ]
  },
  {
   "cell_type": "code",
   "execution_count": 15,
   "id": "38240606",
   "metadata": {},
   "outputs": [
    {
     "name": "stdout",
     "output_type": "stream",
     "text": [
      "================================\u001b[1m Human Message \u001b[0m=================================\n",
      "\n",
      "3에다 5를 더하고 거기에 8을 곱하면?\n",
      "==================================\u001b[1m Ai Message \u001b[0m==================================\n",
      "Tool Calls:\n",
      "  add (call_AjDsCs8FHTYbXlByzbqsnkGW)\n",
      " Call ID: call_AjDsCs8FHTYbXlByzbqsnkGW\n",
      "  Args:\n",
      "    a: 3\n",
      "    b: 5\n",
      "  multiply (call_OWBZW8sfWXUuEqpXpX8EuBPq)\n",
      " Call ID: call_OWBZW8sfWXUuEqpXpX8EuBPq\n",
      "  Args:\n",
      "    a: 8\n",
      "    b: 8\n",
      "=================================\u001b[1m Tool Message \u001b[0m=================================\n",
      "Name: multiply\n",
      "\n",
      "64\n",
      "==================================\u001b[1m Ai Message \u001b[0m==================================\n",
      "Tool Calls:\n",
      "  multiply (call_XpMxyjtlH0temMe95RJwyl7N)\n",
      " Call ID: call_XpMxyjtlH0temMe95RJwyl7N\n",
      "  Args:\n",
      "    a: 8\n",
      "    b: 8\n",
      "=================================\u001b[1m Tool Message \u001b[0m=================================\n",
      "Name: multiply\n",
      "\n",
      "64\n",
      "==================================\u001b[1m Ai Message \u001b[0m==================================\n",
      "\n",
      "3에 5를 더하면 8이 되고, 거기에 8을 곱하면 64가 됩니다.\n"
     ]
    }
   ],
   "source": [
    "from langchain_core.messages import HumanMessage\n",
    "\n",
    "for chunk in graph.stream({'messages': [HumanMessage('3에다 5를 더하고 거기에 8을 곱하면?')]}, stream_mode='values'):\n",
    "    chunk['messages'][-1].pretty_print()"
   ]
  },
  {
   "cell_type": "markdown",
   "id": "31961db9",
   "metadata": {},
   "source": [
    "### GOOGLE"
   ]
  },
  {
   "cell_type": "code",
   "execution_count": 16,
   "id": "a920b6e9",
   "metadata": {},
   "outputs": [],
   "source": [
    "from langchain_community.tools import DuckDuckGoSearchRun\n",
    "\n",
    "search_tool = DuckDuckGoSearchRun()"
   ]
  },
  {
   "cell_type": "code",
   "execution_count": 17,
   "id": "04c3eef4",
   "metadata": {},
   "outputs": [],
   "source": [
    "from langchain_google_community import GmailToolkit\n",
    "from langchain_google_community.gmail.utils import (\n",
    "    build_resource_service,\n",
    "    get_gmail_credentials,\n",
    ")\n",
    "\n",
    "credentials = get_gmail_credentials(\n",
    "    token_file=\"./google/google_token.json\",    # 이 파일을 만들어달라는 뜻\n",
    "    scopes=[\"https://mail.google.com/\"],\n",
    "    client_secrets_file=\"./google/google_credentials.json\",\n",
    ")\n",
    "api_resource = build_resource_service(credentials=credentials)\n",
    "gmail_toolkit = GmailToolkit(api_resource=api_resource)\n",
    "gmail_tool_list = gmail_toolkit.get_tools()"
   ]
  },
  {
   "cell_type": "code",
   "execution_count": 18,
   "id": "e1dfe442",
   "metadata": {},
   "outputs": [
    {
     "data": {
      "text/plain": [
       "[GmailCreateDraft(api_resource=<googleapiclient.discovery.Resource object at 0x0000027356DB2C10>),\n",
       " GmailSendMessage(api_resource=<googleapiclient.discovery.Resource object at 0x0000027356DB2C10>),\n",
       " GmailSearch(api_resource=<googleapiclient.discovery.Resource object at 0x0000027356DB2C10>),\n",
       " GmailGetMessage(api_resource=<googleapiclient.discovery.Resource object at 0x0000027356DB2C10>),\n",
       " GmailGetThread(api_resource=<googleapiclient.discovery.Resource object at 0x0000027356DB2C10>)]"
      ]
     },
     "execution_count": 18,
     "metadata": {},
     "output_type": "execute_result"
    }
   ],
   "source": [
    "gmail_tool_list"
   ]
  },
  {
   "cell_type": "code",
   "execution_count": 19,
   "id": "a26aaa99",
   "metadata": {},
   "outputs": [],
   "source": [
    "from langgraph.prebuilt import ToolNode\n",
    "\n",
    "tool_list = [add, multiply, search_tool] + gmail_tool_list\n",
    "llm_with_tools = llm.bind_tools(tool_list)\n",
    "tool_node = ToolNode(tool_list)"
   ]
  },
  {
   "cell_type": "code",
   "execution_count": 20,
   "id": "a0faa329",
   "metadata": {},
   "outputs": [],
   "source": [
    "from langgraph.graph import MessagesState, StateGraph #tool 사용시 MessagesState 필수\n",
    "\n",
    "# class AgentState(MessagesState) 이것을 사용 안해도 밑에 있는걸 사용하면 가능\n",
    "graph_builder = StateGraph(MessagesState) # messages 존재 \n",
    "# messages라는 속성을 사용가능하게 된다(존재한다는 것을 알림)"
   ]
  },
  {
   "cell_type": "code",
   "execution_count": 21,
   "id": "cdc4208b",
   "metadata": {},
   "outputs": [],
   "source": [
    "def agent(state: MessagesState) -> MessagesState:\n",
    "    messages = state['messages']\n",
    "    response = llm_with_tools.invoke(messages)\n",
    "\n",
    "    return{'messages': [response]}"
   ]
  },
  {
   "cell_type": "code",
   "execution_count": 22,
   "id": "76be1103",
   "metadata": {},
   "outputs": [],
   "source": [
    "from typing import Literal\n",
    "from langgraph.graph import END\n",
    "\n",
    "def should_continue(state: MessagesState) -> Literal['tools', END]:\n",
    "    messages = state['messages']\n",
    "    last_ai_message = messages[-1]\n",
    "\n",
    "    if last_ai_message.tool_calls:\n",
    "        return 'tools'\n",
    "    \n",
    "    return END"
   ]
  },
  {
   "cell_type": "code",
   "execution_count": 23,
   "id": "483a8f2d",
   "metadata": {},
   "outputs": [
    {
     "data": {
      "text/plain": [
       "<langgraph.graph.state.StateGraph at 0x2733e83af50>"
      ]
     },
     "execution_count": 23,
     "metadata": {},
     "output_type": "execute_result"
    }
   ],
   "source": [
    "graph_builder.add_node('agent', agent)\n",
    "graph_builder.add_node('tools', tool_node) # tool_node node로 사용가능? 가능하다? 왜?"
   ]
  },
  {
   "cell_type": "code",
   "execution_count": 24,
   "id": "be33304b",
   "metadata": {},
   "outputs": [
    {
     "data": {
      "text/plain": [
       "<langgraph.graph.state.StateGraph at 0x2733e83af50>"
      ]
     },
     "execution_count": 24,
     "metadata": {},
     "output_type": "execute_result"
    }
   ],
   "source": [
    "from langgraph.graph import START, END\n",
    "\n",
    "graph_builder.add_edge(START, 'agent')\n",
    "graph_builder.add_conditional_edges(\n",
    "    'agent',\n",
    "    should_continue,\n",
    "    ['tools', END]\n",
    "\n",
    ")\n",
    "\n",
    "graph_builder.add_edge('tools', 'agent')"
   ]
  },
  {
   "cell_type": "code",
   "execution_count": 25,
   "id": "fb2e051a",
   "metadata": {},
   "outputs": [],
   "source": [
    "graph = graph_builder.compile()"
   ]
  },
  {
   "cell_type": "code",
   "execution_count": 26,
   "id": "424b92fe",
   "metadata": {},
   "outputs": [
    {
     "data": {
      "image/png": "[encoded data removed]",
      "text/plain": [
       "<langgraph.graph.state.CompiledStateGraph object at 0x00000273570888D0>"
      ]
     },
     "execution_count": 26,
     "metadata": {},
     "output_type": "execute_result"
    }
   ],
   "source": [
    "graph"
   ]
  },
  {
   "cell_type": "code",
   "execution_count": null,
   "id": "e6b5ef8c",
   "metadata": {},
   "outputs": [
    {
     "name": "stdout",
     "output_type": "stream",
     "text": [
      "================================\u001b[1m Human Message \u001b[0m=================================\n",
      "\n",
      "김지수의 출생지에는 어떤 통화를 사용하나요? 어떤 통화인지 찾아서 rmfhrm9@gmail.com 이메일로 보내주세요\n",
      "==================================\u001b[1m Ai Message \u001b[0m==================================\n",
      "Tool Calls:\n",
      "  duckduckgo_search (call_VptUmiQz1W98BmdwQ1jypTl6)\n",
      " Call ID: call_VptUmiQz1W98BmdwQ1jypTl6\n",
      "  Args:\n",
      "    query: 김지수 출생지\n",
      "  duckduckgo_search (call_9ohpdYMNKG4XVj1zX9ijjZSS)\n",
      " Call ID: call_9ohpdYMNKG4XVj1zX9ijjZSS\n",
      "  Args:\n",
      "    query: South Korea currency\n"
     ]
    },
    {
     "name": "stderr",
     "output_type": "stream",
     "text": [
      "c:\\workspace\\uv_work\\.venv\\Lib\\site-packages\\langchain_community\\utilities\\duckduckgo_search.py:64: UserWarning: 'api' backend is deprecated, using backend='auto'\n",
      "  ddgs_gen = ddgs.text(\n",
      "c:\\workspace\\uv_work\\.venv\\Lib\\site-packages\\langchain_community\\utilities\\duckduckgo_search.py:64: UserWarning: 'api' backend is deprecated, using backend='auto'\n",
      "  ddgs_gen = ddgs.text(\n"
     ]
    },
    {
     "name": "stdout",
     "output_type": "stream",
     "text": [
      "=================================\u001b[1m Tool Message \u001b[0m=================================\n",
      "Name: duckduckgo_search\n",
      "\n",
      "The South Korean won, sometimes known as the Republic of Korea won is the official currency of South Korea. A single won is divided into 100 jeon, ... The South Korean won is the official currency of South Korea. Its currency code is KRW and its symbol is ₩. The won's conversion factor goes to 6 significant ... Coins come in 1, 5, 10, 100, and 500 won (1 and 5 won coins are not widely circulated). Korea's Bills. 1,000 won (cheon won). 1,000 won Front. Front. 1,000 won ... Our currency rankings show that the most popular South Korean Won exchange rate is the KRW to USD rate. The currency code for South Korean Won is KRW. The currency of Korea is the won (₩; KRW). You can easily exchange foreign currencies into Korean won at banks' exchange offices in the airport, banks in ...\n",
      "==================================\u001b[1m Ai Message \u001b[0m==================================\n",
      "Tool Calls:\n",
      "  send_gmail_message (call_zU32lEWiAAMUFcJTzt8Ss4Ab)\n",
      " Call ID: call_zU32lEWiAAMUFcJTzt8Ss4Ab\n",
      "  Args:\n",
      "    message: 김지수의 출생지는 서울특별시입니다. 서울특별시가 위치한 대한민국의 공식 통화는 대한민국 원(KRW)입니다. 원의 심볼은 ₩입니다.\n",
      "    to: rmfhrm9@gmail.com\n",
      "    subject: 김지수의 출생지 통화 정보\n",
      "=================================\u001b[1m Tool Message \u001b[0m=================================\n",
      "Name: send_gmail_message\n",
      "\n",
      "Message sent. Message Id: 199276cc3bf05784\n",
      "==================================\u001b[1m Ai Message \u001b[0m==================================\n",
      "\n",
      "김지수의 출생지인 서울특별시가 위치한 대한민국의 공식 통화 정보가 요청하신 이메일 주소로 전송되었습니다.\n"
     ]
    }
   ],
   "source": [
    "from langchain_core.messages import HumanMessage\n",
    "\n",
    "query = '김지수의 출생지에는 어떤 통화를 사용하나요? 어떤 통화인지 찾아서 0-0 이메일로 보내주세요'\n",
    "\n",
    "from langchain_core.messages import HumanMessage\n",
    "\n",
    "for chunk in graph.stream({'messages': [HumanMessage(query)]}, stream_mode='values'):\n",
    "    chunk['messages'][-1].pretty_print()\n"
   ]
  },
  {
   "cell_type": "code",
   "execution_count": null,
   "id": "0e2601bc",
   "metadata": {},
   "outputs": [],
   "source": []
  }
 ],
 "metadata": {
  "kernelspec": {
   "display_name": "uv-work",
   "language": "python",
   "name": "python3"
  },
  "language_info": {
   "codemirror_mode": {
    "name": "ipython",
    "version": 3
   },
   "file_extension": ".py",
   "mimetype": "text/x-python",
   "name": "python",
   "nbconvert_exporter": "python",
   "pygments_lexer": "ipython3",
   "version": "3.11.9"
  }
 },
 "nbformat": 4,
 "nbformat_minor": 5
}
