{
 "cells": [
  {
   "cell_type": "code",
   "execution_count": 2,
   "id": "39d8239f",
   "metadata": {},
   "outputs": [
    {
     "data": {
      "text/plain": [
       "True"
      ]
     },
     "execution_count": 2,
     "metadata": {},
     "output_type": "execute_result"
    }
   ],
   "source": [
    "from dotenv import load_dotenv\n",
    "load_dotenv()"
   ]
  },
  {
   "cell_type": "code",
   "execution_count": 3,
   "id": "6101a38f",
   "metadata": {},
   "outputs": [
    {
     "data": {
      "text/plain": [
       "80"
      ]
     },
     "execution_count": 3,
     "metadata": {},
     "output_type": "execute_result"
    }
   ],
   "source": [
    "from langchain_community.document_loaders import Docx2txtLoader\n",
    "from langchain_text_splitters import RecursiveCharacterTextSplitter\n",
    "\n",
    "text_splitter = RecursiveCharacterTextSplitter(\n",
    "    chunk_size= 1498,\n",
    "    chunk_overlap= 198,\n",
    ")\n",
    "\n",
    "loader = Docx2txtLoader('./tax.docx')\n",
    "temp = loader.load_and_split(text_splitter=text_splitter)\n",
    "\n",
    "document_list = temp[0:80]\n",
    "len(document_list)"
   ]
  },
  {
   "cell_type": "code",
   "execution_count": 4,
   "id": "76828a64",
   "metadata": {},
   "outputs": [],
   "source": [
    "from langchain_openai import OpenAIEmbeddings\n",
    "\n",
    "embedding = OpenAIEmbeddings(model='text-embedding-3-large')"
   ]
  },
  {
   "cell_type": "markdown",
   "id": "09561e5a",
   "metadata": {},
   "source": [
    "### 처음 데이터 생성 시에만 확인하기 //// 데이터 로딩"
   ]
  },
  {
   "cell_type": "code",
   "execution_count": 5,
   "id": "d2c49cda",
   "metadata": {},
   "outputs": [],
   "source": [
    "from langchain_chroma import Chroma\n",
    "\n",
    "# 처음 데이터 생성 시에만\n",
    "# vector_store = Chroma.from_documents(\n",
    "#     documents=document_list,\n",
    "#     embedding=embedding,\n",
    "#     collection_name='chroma-tax',\n",
    "#     persist_directory='./chroma-tax'\n",
    "# )\n",
    "\n",
    "## 데이터 로딩 \n",
    "vector_store = Chroma(\n",
    "    collection_name='chroma-tax',\n",
    "    embedding_function=embedding,\n",
    "    persist_directory='./chroma-tax'\n",
    ")\n",
    "\n",
    "retriever = vector_store.as_retriever(search_kwargs={'k':3})"
   ]
  },
  {
   "cell_type": "markdown",
   "id": "7473bf34",
   "metadata": {},
   "source": [
    "### 랭그래프 시작 , state, node, edge"
   ]
  },
  {
   "cell_type": "code",
   "execution_count": 6,
   "id": "bd9d5d15",
   "metadata": {},
   "outputs": [],
   "source": [
    "from typing_extensions import List, TypedDict\n",
    "from langchain_core.documents import Document\n",
    "from langgraph.graph import StateGraph\n",
    "\n",
    "class AgentState(TypedDict):\n",
    "    query: str\n",
    "    context: List[Document]\n",
    "    answer: str"
   ]
  },
  {
   "cell_type": "code",
   "execution_count": 7,
   "id": "155210be",
   "metadata": {},
   "outputs": [],
   "source": [
    "from langchain_openai import ChatOpenAI\n",
    "\n",
    "llm = ChatOpenAI(model='gpt-4o-mini')"
   ]
  },
  {
   "cell_type": "markdown",
   "id": "6ccc6e1b",
   "metadata": {},
   "source": [
    "### 내가 해본 방법"
   ]
  },
  {
   "cell_type": "code",
   "execution_count": 1,
   "id": "ecffbf5f",
   "metadata": {},
   "outputs": [
    {
     "ename": "NameError",
     "evalue": "name 'AgentState' is not defined",
     "output_type": "error",
     "traceback": [
      "\u001b[1;31m---------------------------------------------------------------------------\u001b[0m",
      "\u001b[1;31mNameError\u001b[0m                                 Traceback (most recent call last)",
      "Cell \u001b[1;32mIn[1], line 2\u001b[0m\n\u001b[0;32m      1\u001b[0m \u001b[38;5;66;03m# 검색\u001b[39;00m\n\u001b[1;32m----> 2\u001b[0m \u001b[38;5;28;01mdef\u001b[39;00m \u001b[38;5;21mretrieve\u001b[39m(state: \u001b[43mAgentState\u001b[49m) \u001b[38;5;241m-\u001b[39m\u001b[38;5;241m>\u001b[39m AgentState:\n\u001b[0;32m      3\u001b[0m     query \u001b[38;5;241m=\u001b[39m state[\u001b[38;5;124m\"\u001b[39m\u001b[38;5;124mquery\u001b[39m\u001b[38;5;124m\"\u001b[39m]\n\u001b[0;32m      4\u001b[0m     docs \u001b[38;5;241m=\u001b[39m retriever\u001b[38;5;241m.\u001b[39mget_relevant_documents(query)\n",
      "\u001b[1;31mNameError\u001b[0m: name 'AgentState' is not defined"
     ]
    }
   ],
   "source": [
    "# 검색\n",
    "def retrieve(state: AgentState) -> AgentState:\n",
    "    query = state[\"query\"]\n",
    "    docs = retriever.get_relevant_documents(query)\n",
    "    return {**state, \"context\": docs}\n",
    "\n",
    "# 답변 생성\n",
    "def generate(state: AgentState) -> AgentState:\n",
    "    context_texts = \"\\n\".join([d.page_content for d in state[\"context\"]])\n",
    "    answer = llm.invoke(f\"질문: {state['query']}\\n\\n참고 문맥:\\n{context_texts}\")\n",
    "    return {**state, \"answer\": answer.content}\n",
    "\n",
    "# 질문 리라이트\n",
    "def rewrite(state: AgentState) -> AgentState:\n",
    "    new_query = llm.invoke(f\"다음 질문을 더 검색 친화적으로 다시 써줘: {state['query']}\")\n",
    "    return {**state, \"query\": new_query.content}"
   ]
  },
  {
   "cell_type": "code",
   "execution_count": null,
   "id": "4950ceb2",
   "metadata": {},
   "outputs": [],
   "source": [
    "from langgraph.graph import StateGraph, START, END\n",
    "\n",
    "builder = StateGraph(AgentState)\n",
    "\n",
    "# 노드 등록\n",
    "builder.add_node(\"retrieve\", retrieve)\n",
    "builder.add_node(\"generate\", generate)\n",
    "builder.add_node(\"rewrite\", rewrite)\n",
    "\n",
    "# 분기 연결\n",
    "builder.add_edge(START, \"retrieve\")\n",
    "\n",
    "# retrieve → generate or rewrite (조건 분기)\n",
    "def branch_after_retrieve(state: AgentState):\n",
    "    if len(state[\"context\"]) > 0:   \n",
    "        return \"generate\"\n",
    "    else:                           \n",
    "        return \"rewrite\"\n",
    "\n",
    "builder.add_conditional_edges(\"retrieve\", branch_after_retrieve,\n",
    "                              {\"generate\": \"generate\", \"rewrite\": \"rewrite\"})\n",
    "\n",
    "# generate → END\n",
    "builder.add_edge(\"generate\", END)\n",
    "\n",
    "# rewrite → retrieve (루프)\n",
    "builder.add_edge(\"rewrite\", \"retrieve\")\n",
    "\n",
    "graph = builder.compile()\n"
   ]
  },
  {
   "cell_type": "code",
   "execution_count": null,
   "id": "cdcd2ef1",
   "metadata": {},
   "outputs": [
    {
     "data": {
      "image/png": "[encoded data removed]",
      "text/plain": [
       "<IPython.core.display.Image object>"
      ]
     },
     "metadata": {},
     "output_type": "display_data"
    }
   ],
   "source": [
    "from IPython.display import Image, display\n",
    "\n",
    "display(Image(graph.get_graph().draw_mermaid_png()))"
   ]
  },
  {
   "cell_type": "code",
   "execution_count": null,
   "id": "5ae1eee4",
   "metadata": {},
   "outputs": [
    {
     "name": "stderr",
     "output_type": "stream",
     "text": [
      "C:\\Users\\USER\\AppData\\Local\\Temp\\ipykernel_17032\\3918439501.py:4: LangChainDeprecationWarning: The method `BaseRetriever.get_relevant_documents` was deprecated in langchain-core 0.1.46 and will be removed in 1.0. Use :meth:`~invoke` instead.\n",
      "  docs = retriever.get_relevant_documents(query)\n"
     ]
    },
    {
     "name": "stdout",
     "output_type": "stream",
     "text": [
      "연봉 5천만원을 받는 직장인의 소득세는 다음과 같이 대략적으로 계산할 수 있습니다. 한국의 소득세는 누진세 구조로 되어 있어, 소득 구간에 따라 세율이 다르게 적용됩니다.\n",
      "\n",
      "2023년 기준으로, 개인소득세의 세율은 다음과 같습니다:\n",
      "\n",
      "- 1,200만원 이하: 6%\n",
      "- 1,200만원 초과 ~ 4,600만원 이하: 15%\n",
      "- 4,600만원 초과 ~ 8,800만원 이하: 24%\n",
      "\n",
      "연봉 5천만원의 경우, 세금 계산은 다음과 같습니다.\n",
      "\n",
      "1. **과세표준 계산**: 연봉 5천만원에서 비과세 소득이나 공제를 제외한 금액을 과세표준으로 합니다. 여기서는 간단화를 위해 비과세 소득이나 공제를 고려하지 않고 계산하겠습니다.\n",
      "\n",
      "2. **소득세 계산**:\n",
      "   - 1,200만원까지: 1,200만원 × 6% = 72만원\n",
      "   - 1,200만원 초과 4,600만원까지: (4,600만원 - 1,200만원) × 15% = 51만원\n",
      "   - 4,600만원 초과 5,000만원까지: (5,000만원 - 4,600만원) × 24% = 96만원\n",
      "\n",
      "3. **총 소득세**: \n",
      "   - 72만원 + 51만원 + 96만원 = 219만원\n",
      "\n",
      "따라서, 연봉 5천만원을 받는 직장인의 대략적인 소득세는 약 219만원입니다. 다만, 개인의 세무 상황에 따라 공제 항목이나 추가 세금이 있을 수 있으므로, 정확한 세액은 세무사와 상담하거나 국세청의 세금 계산기를 이용하는 것이 좋습니다.\n"
     ]
    }
   ],
   "source": [
    "inputs = {\"query\": \"연봉 5천만원 직장인의 소득세는? \", \"context\": [], \"answer\": \"\"}\n",
    "result = graph.invoke(inputs)\n",
    "print(result[\"answer\"])"
   ]
  },
  {
   "cell_type": "markdown",
   "id": "c320ea8f",
   "metadata": {},
   "source": [
    "### 강사님 버전"
   ]
  },
  {
   "cell_type": "code",
   "execution_count": 20,
   "id": "1264e726",
   "metadata": {},
   "outputs": [
    {
     "name": "stderr",
     "output_type": "stream",
     "text": [
      "c:\\workspace\\uv_work\\.venv\\Lib\\site-packages\\langsmith\\client.py:256: LangSmithMissingAPIKeyWarning: API key must be provided when using hosted LangSmith API\n",
      "  warnings.warn(\n"
     ]
    }
   ],
   "source": [
    "from langchain import hub\n",
    "\n",
    "generate_prompt = hub.pull('rlm/rag-prompt')\n",
    "\n",
    "def generate(state: AgentState) -> AgentState:\n",
    "    \"\"\" \n",
    "    주어진 state를 기반으로 RAG 체인을 사용하여 응답을 생성합니다.\n",
    "    Args:\n",
    "        state (AgentState): 사용자의 질문과 문맥을 포함한 에이전트의 현재 state\n",
    "    Returns:\n",
    "        AgentState: 생성된 응답을 포함하는 state를 반환합니다.        \n",
    "    \"\"\"\n",
    "    context = state['context']\n",
    "    query = state['query']\n",
    "\n",
    "    rag_chain = generate_prompt | llm\n",
    "\n",
    "    response = rag_chain.invoke({'question': query, 'context': context})\n",
    "\n",
    "    return {'answer': response}"
   ]
  },
  {
   "cell_type": "code",
   "execution_count": 13,
   "id": "4cb39060",
   "metadata": {},
   "outputs": [
    {
     "name": "stderr",
     "output_type": "stream",
     "text": [
      "c:\\workspace\\uv_work\\.venv\\Lib\\site-packages\\langsmith\\client.py:256: LangSmithMissingAPIKeyWarning: API key must be provided when using hosted LangSmith API\n",
      "  warnings.warn(\n"
     ]
    }
   ],
   "source": [
    "from langchain import hub\n",
    "from typing import Literal\n",
    "\n",
    "doc_releveance_prompt = hub.pull(\"langchain-ai/rag-document-relevance\")\n",
    "\n",
    "def check_doc_relevence(state: AgentState) -> Literal['generate', 'rewrite']:\n",
    "    \"\"\" \n",
    "    주어진 state를 기반으로 문서의 관련성을 판단합니다.\n",
    "    Args:\n",
    "        state (AgentState): 사용자의 질문과 문맥을 포함한 에이전트의 현재 state\n",
    "    Returns:\n",
    "        Literal['generate', 'rewrite']: 문서가 관련성이 높으면 'generate', 그렇치 않으면 'rewrite' 를 반환합니다.       \n",
    "    \"\"\"\n",
    "\n",
    "    query = state['query']\n",
    "    context = state['context']\n",
    "\n",
    "    doc_relevance_chain = doc_releveance_prompt | llm\n",
    "\n",
    "    response = doc_relevance_chain.invoke({'question': query, 'documents': context})\n",
    "\n",
    "    if response['Score'] == 1:\n",
    "        return 'generate'\n",
    "    \n",
    "    return 'rewrite'"
   ]
  },
  {
   "cell_type": "code",
   "execution_count": null,
   "id": "d4ed3013",
   "metadata": {},
   "outputs": [],
   "source": [
    "from langchain_core.prompts import PromptTemplate\n",
    "from langchain_core.output_parsers import StrOutputParser\n",
    "\n",
    "dictionary = ['사람과 관련된 표현 -> 거주자']\n",
    "\n",
    "rewrite_prompt = PromptTemplate.from_template(f\"\"\"\n",
    "사용자의 질문을 보고, 우리 사전을 참고해서 사용자의 질문을 변경해 주세요.\n",
    "사전: {dictionary}\n",
    "질문: {{query}}\n",
    "\"\"\")\n",
    "\n",
    "def rewrite(state=AgentState) -> AgentState:\n",
    "    \"\"\"\n",
    "    사용자의 질문을 사전에 고려하여 변경합니다.\n",
    "    Args:\n",
    "        state (AgentState): 사용자의 질문과 문맥을 포함한 에이전트의 현재 state\n",
    "    Returns:\n",
    "        AgentState: 변경된 질문을 포함하는 state를 반환합니다.   \n",
    "    \"\"\"\n",
    "    query = state['query']\n",
    "    rewrite_chain = rewrite_prompt | llm | StrOutputParser()\n",
    "    response = rewrite_chain.invoke({'query': query})\n",
    "\n",
    "    return {'query': response}"
   ]
  },
  {
   "cell_type": "code",
   "execution_count": 21,
   "id": "dd66f0ed",
   "metadata": {},
   "outputs": [
    {
     "data": {
      "text/plain": [
       "<langgraph.graph.state.StateGraph at 0x27fed84e190>"
      ]
     },
     "execution_count": 21,
     "metadata": {},
     "output_type": "execute_result"
    }
   ],
   "source": [
    "builder = StateGraph(AgentState)\n",
    "\n",
    "builder.add_node(\"retrieve\", retrieve)\n",
    "builder.add_node(\"generate\", generate)\n",
    "builder.add_node('rewrite', rewrite)"
   ]
  },
  {
   "cell_type": "code",
   "execution_count": 22,
   "id": "7598e439",
   "metadata": {},
   "outputs": [
    {
     "data": {
      "text/plain": [
       "<langgraph.graph.state.StateGraph at 0x27fed84e190>"
      ]
     },
     "execution_count": 22,
     "metadata": {},
     "output_type": "execute_result"
    }
   ],
   "source": [
    "from langgraph.graph import START, END\n",
    "\n",
    "builder.add_edge(START, 'retrieve')\n",
    "builder.add_conditional_edges('retrieve', check_doc_relevence)\n",
    "builder.add_edge('rewrite', 'retrieve')\n",
    "builder.add_edge('generate', END)"
   ]
  },
  {
   "cell_type": "code",
   "execution_count": null,
   "id": "d91b4137",
   "metadata": {},
   "outputs": [],
   "source": [
    "graph = builder.compile()"
   ]
  },
  {
   "cell_type": "code",
   "execution_count": null,
   "id": "95f38842",
   "metadata": {},
   "outputs": [
    {
     "data": {
      "image/png": "[encoded data removed]",
      "text/plain": [
       "<IPython.core.display.Image object>"
      ]
     },
     "metadata": {},
     "output_type": "display_data"
    }
   ],
   "source": [
    "from IPython.display import Image, display\n",
    "\n",
    "display(Image(graph.get_graph().draw_mermaid_png()))"
   ]
  },
  {
   "cell_type": "code",
   "execution_count": null,
   "id": "2118b858",
   "metadata": {},
   "outputs": [],
   "source": [
    "# test\n",
    "initial_state = {\"query\": \"연봉 5천만원 직장인의 소득세는?\"}\n",
    "response = graph.invoke(initial_state)"
   ]
  },
  {
   "cell_type": "code",
   "execution_count": null,
   "id": "694eacd5",
   "metadata": {},
   "outputs": [
    {
     "data": {
      "text/plain": [
       "{'query': '질문을 변경할 필요가 없습니다. 사용자의 질문은 소득세에 관한 것이며, 주어진 사전과 관련이 없습니다.',\n",
       " 'context': [Document(metadata={'source': './tax.docx'}, page_content='[시행일: 2025. 1. 1.]  제21조제1항 각 호 외의 부분, 제21조제1항제27호\\n\\n\\n\\n제22조(퇴직소득) ① 퇴직소득은 해당 과세기간에 발생한 다음 각 호의 소득으로 한다. <개정 2013. 1. 1.>\\n\\n1. 공적연금 관련법에 따라 받는 일시금\\n\\n2. 사용자 부담금을 기초로 하여 현실적인 퇴직을 원인으로 지급받는 소득\\n\\n3. 그 밖에 제1호 및 제2호와 유사한 소득으로서 대통령령으로 정하는 소득\\n\\n② 제1항제1호에 따른 퇴직소득은 2002년 1월 1일 이후에 납입된 연금 기여금 및 사용자 부담금을 기초로 하거나 2002년 1월 1일 이후 근로의 제공을 기초로 하여 받은 일시금으로 한다.<개정 2013. 1. 1.>\\n\\n③퇴직소득금액은 제1항 각 호에 따른 소득의 금액의 합계액(비과세소득의 금액은 제외한다)으로 한다. 다만, 대통령령으로 정하는 임원의 퇴직소득금액(제1항제1호의 금액은 제외하며, 2011년 12월 31일에 퇴직하였다고 가정할 때 지급받을 대통령령으로 정하는 퇴직소득금액이 있는 경우에는 그 금액을 뺀 금액을 말한다)이 다음 계산식에 따라 계산한 금액을 초과하는 경우에는 제1항에도 불구하고 그 초과하는 금액은 근로소득으로 본다.<개정 2012. 1. 1., 2013. 1. 1., 2014. 12. 23., 2019. 12. 31.>\\n\\n\\n\\n④ 제3항 단서와 그 계산식을 적용할 때 근무기간과 총급여는 다음 각 호의 방법으로 산정한다.<개정 2014. 12. 23.>\\n\\n1. 근무기간: 개월 수로 계산한다. 이 경우 1개월 미만의 기간이 있는 경우에는 이를 1개월로 본다.\\n\\n2. 총급여: 봉급ㆍ상여 등 제20조제1항제1호 및 제2호에 따른 근로소득(제12조에 따른 비과세소득은 제외한다)을 합산한다.\\n\\n⑤ 삭제<2013. 1. 1.>\\n\\n⑥ 퇴직소득의 범위 및 계산방법과 그 밖에 필요한 사항은 대통령령으로 정한다.\\n\\n[전문개정 2009. 12. 31.]\\n\\n\\n\\n제23조 삭제 <2006. 12. 30.>\\n\\n\\n\\n제3절 소득금액의 계산 <개정 2009. 12. 31.>\\n\\n\\n\\n제1관 총수입금액 <개정 2009. 12. 31.>\\n\\n\\n\\n제24조(총수입금액의 계산) ① 거주자의 각 소득에 대한 총수입금액(총급여액과 총연금액을 포함한다. 이하 같다)은 해당 과세기간에 수입하였거나 수입할 금액의 합계액으로 한다.\\n\\n② 제1항의 경우 금전 외의 것을 수입할 때에는 그 수입금액을 그 거래 당시의 가액에 의하여 계산한다.\\n\\n③ 총수입금액을 계산할 때 수입하였거나 수입할 금액의 범위와 계산에 관하여 필요한 사항은 대통령령으로 정한다.\\n\\n[전문개정 2009. 12. 31.]'),\n",
       "  Document(metadata={'source': './tax.docx'}, page_content='④ 제1항이나 제2항에 따른 신고가 없는 경우의 거주자 또는 비거주자의 소득세 납세지는 제6조와 제7조에 따른다.\\n\\n⑤ 국내에 주소가 없는 공무원 등 대통령령으로 정하는 사람의 소득세 납세지는 대통령령으로 정하는 장소로 한다.<개정 2019. 12. 31.>\\n\\n[전문개정 2009. 12. 31.]\\n\\n\\n\\n제9조(납세지의 지정) ① 국세청장 또는 관할 지방국세청장은 다음 각 호의 어느 하나에 해당하는 경우에는 제6조부터 제8조까지의 규정에도 불구하고 대통령령으로 정하는 바에 따라 납세지를 따로 지정할 수 있다.\\n\\n1. 사업소득이 있는 거주자가 사업장 소재지를 납세지로 신청한 경우\\n\\n2. 제1호 외의 거주자 또는 비거주자로서 제6조부터 제8조까지의 규정에 따른 납세지가 납세의무자의 소득 상황으로 보아 부적당하거나 납세의무를 이행하기에 불편하다고 인정되는 경우\\n\\n② 제1항에 따라 납세지를 지정하거나 같은 항 제1호의 신청이 있는 경우로서 사업장 소재지를 납세지로 지정하는 것이 세무관리상 부적절하다고 인정되어 그 신청대로 납세지 지정을 하지 아니한 경우에는 국세청장 또는 관할 지방국세청장은 그 뜻을 납세의무자 또는 그 상속인, 납세관리인이나 납세조합에 서면으로 각각 통지하여야 한다.\\n\\n③ 제1항에서 규정한 납세지의 지정 사유가 소멸한 경우 국세청장 또는 관할 지방국세청장은 납세지의 지정을 취소하여야 한다.\\n\\n④ 제1항에 따른 납세지의 지정이 취소된 경우에도 그 취소 전에 한 소득세에 관한 신고, 신청, 청구, 납부, 그 밖의 행위의 효력에는 영향을 미치지 아니한다.\\n\\n[전문개정 2009. 12. 31.]\\n\\n\\n\\n제10조(납세지의 변경신고) 거주자나 비거주자는 제6조부터 제9조까지의 규정에 따른 납세지가 변경된 경우 변경된 날부터 15일 이내에 대통령령으로 정하는 바에 따라 그 변경 후의 납세지 관할 세무서장에게 신고하여야 한다.\\n\\n[전문개정 2009. 12. 31.]\\n\\n\\n\\n제11조(과세 관할) 소득세는 제6조부터 제10조까지의 규정에 따른 납세지를 관할하는 세무서장 또는 지방국세청장이 과세한다.\\n\\n[전문개정 2009. 12. 31.]\\n\\n\\n\\n제2장 거주자의 종합소득 및 퇴직소득에 대한 납세의무 <개정 2009. 12. 31.>\\n\\n\\n\\n제1절 비과세 <개정 2009. 12. 31.>\\n\\n\\n\\n제12조(비과세소득) 다음 각 호의 소득에 대해서는 소득세를 과세하지 아니한다. <개정 2010. 12. 27., 2011. 7. 25., 2011. 9. 15., 2012. 2. 1., 2013. 1. 1., 2013. 3. 22., 2014. 1. 1., 2014. 3. 18., 2014. 12. 23., 2015. 12. 15., 2016. 12. 20., 2018. 3. 20., 2018. 12. 31., 2019. 12. 10., 2019. 12. 31., 2020. 6. 9., 2020. 12. 29., 2022. 8. 12., 2022. 12. 31., 2023. 12. 31.>\\n\\n1. 「공익신탁법」에 따른 공익신탁의 이익'),\n",
       "  Document(metadata={'source': './tax.docx'}, page_content='소득세법\\n\\n소득세법\\n\\n[시행 2024. 1. 1.] [법률 제19933호, 2023. 12. 31., 일부개정]\\n\\n기획재정부(소득세제과(사업소득, 기타소득)) 044-215-4217\\n\\n기획재정부(소득세제과(근로소득)) 044-215-4216\\n\\n기획재정부(재산세제과(양도소득세)) 044-215-4314\\n\\n기획재정부(금융세제과(이자소득, 배당소득)) 044-215-4236\\n\\n\\n\\n\\t제1장 총칙 <개정 2009. 12. 31.>\\t\\n\\n\\n\\n제1조(목적) 이 법은 개인의 소득에 대하여 소득의 성격과 납세자의 부담능력 등에 따라 적정하게 과세함으로써 조세부담의 형평을 도모하고 재정수입의 원활한 조달에 이바지함을 목적으로 한다.\\n\\n[본조신설 2009. 12. 31.]\\n\\n[종전 제1조는 제2조로 이동 <2009. 12. 31.>]\\n\\n\\n\\n제1조의2(정의) ① 이 법에서 사용하는 용어의 뜻은 다음과 같다. <개정 2010. 12. 27., 2014. 12. 23., 2018. 12. 31.>\\n\\n1. “거주자”란 국내에 주소를 두거나 183일 이상의 거소(居所)를 둔 개인을 말한다.\\n\\n2. “비거주자”란 거주자가 아닌 개인을 말한다.\\n\\n3. “내국법인”이란 「법인세법」 제2조제1호에 따른 내국법인을 말한다.\\n\\n4. “외국법인”이란 「법인세법」 제2조제3호에 따른 외국법인을 말한다.\\n\\n5. “사업자”란 사업소득이 있는 거주자를 말한다.\\n\\n② 제1항에 따른 주소ㆍ거소와 거주자ㆍ비거주자의 구분은 대통령령으로 정한다.\\n\\n[본조신설 2009. 12. 31.]\\n\\n\\n\\n제2조(납세의무) ① 다음 각 호의 어느 하나에 해당하는 개인은 이 법에 따라 각자의 소득에 대한 소득세를 납부할 의무를 진다.\\n\\n1. 거주자\\n\\n2. 비거주자로서 국내원천소득(國內源泉所得)이 있는 개인\\n\\n② 다음 각 호의 어느 하나에 해당하는 자는 이 법에 따라 원천징수한 소득세를 납부할 의무를 진다.\\n\\n1. 거주자\\n\\n2. 비거주자\\n\\n3. 내국법인\\n\\n4. 외국법인의 국내지점 또는 국내영업소(출장소, 그 밖에 이에 준하는 것을 포함한다. 이하 같다)\\n\\n5. 그 밖에 이 법에서 정하는 원천징수의무자\\n\\n③ 「국세기본법」 제13조제1항에 따른 법인 아닌 단체 중 같은 조 제4항에 따른 법인으로 보는 단체(이하 “법인으로 보는 단체”라 한다) 외의 법인 아닌 단체는 국내에 주사무소 또는 사업의 실질적 관리장소를 둔 경우에는 1거주자로, 그 밖의 경우에는 1비거주자로 보아 이 법을 적용한다. 다만, 다음 각 호의 어느 하나에 해당하는 경우에는 소득구분에 따라 해당 단체의 각 구성원별로 이 법 또는 「법인세법」에 따라 소득에 대한 소득세 또는 법인세[해당 구성원이 「법인세법」에 따른 법인(법인으로 보는 단체를 포함한다)인 경우로 한정한다. 이하 이 조에서 같다]를 납부할 의무를 진다.<개정 2010. 12. 27., 2013. 1. 1., 2018. 12. 31.>\\n\\n1. 구성원 간 이익의 분배비율이 정하여져 있고 해당 구성원별로 이익의 분배비율이 확인되는 경우')],\n",
       " 'answer': AIMessage(content='질문을 변경할 필요가 없습니다. 사용자의 질문은 소득세에 관한 것이며, 주어진 사전과 관련이 없습니다.', additional_kwargs={'refusal': None}, response_metadata={'token_usage': {'completion_tokens': 30, 'prompt_tokens': 3031, 'total_tokens': 3061, 'completion_tokens_details': {'accepted_prediction_tokens': 0, 'audio_tokens': 0, 'reasoning_tokens': 0, 'rejected_prediction_tokens': 0}, 'prompt_tokens_details': {'audio_tokens': 0, 'cached_tokens': 0}}, 'model_name': 'gpt-4o-2024-08-06', 'system_fingerprint': 'fp_cbf1785567', 'finish_reason': 'stop', 'logprobs': None}, id='run--efd2cba6-cb1b-4cca-bc8a-9b020347bc80-0', usage_metadata={'input_tokens': 3031, 'output_tokens': 30, 'total_tokens': 3061, 'input_token_details': {'audio': 0, 'cache_read': 0}, 'output_token_details': {'audio': 0, 'reasoning': 0}})}"
      ]
     },
     "execution_count": 102,
     "metadata": {},
     "output_type": "execute_result"
    }
   ],
   "source": [
    "response"
   ]
  },
  {
   "cell_type": "code",
   "execution_count": null,
   "id": "e9521039",
   "metadata": {},
   "outputs": [
    {
     "name": "stdout",
     "output_type": "stream",
     "text": [
      "질문을 변경할 필요가 없습니다. 사용자의 질문은 소득세에 관한 것이며, 주어진 사전과 관련이 없습니다.\n"
     ]
    }
   ],
   "source": [
    "print(response['answer'].content)"
   ]
  },
  {
   "cell_type": "code",
   "execution_count": null,
   "id": "fb79a16f",
   "metadata": {},
   "outputs": [],
   "source": []
  },
  {
   "cell_type": "code",
   "execution_count": null,
   "id": "e3890173",
   "metadata": {},
   "outputs": [],
   "source": []
  }
 ],
 "metadata": {
  "kernelspec": {
   "display_name": "uv-work",
   "language": "python",
   "name": "python3"
  },
  "language_info": {
   "codemirror_mode": {
    "name": "ipython",
    "version": 3
   },
   "file_extension": ".py",
   "mimetype": "text/x-python",
   "name": "python",
   "nbconvert_exporter": "python",
   "pygments_lexer": "ipython3",
   "version": "3.11.9"
  }
 },
 "nbformat": 4,
 "nbformat_minor": 5
}
