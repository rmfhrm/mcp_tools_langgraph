{
 "cells": [
  {
   "cell_type": "code",
   "execution_count": 2,
   "id": "d370ce70",
   "metadata": {},
   "outputs": [
    {
     "data": {
      "text/plain": [
       "True"
      ]
     },
     "execution_count": 2,
     "metadata": {},
     "output_type": "execute_result"
    }
   ],
   "source": [
    "from dotenv import load_dotenv\n",
    "load_dotenv()"
   ]
  },
  {
   "cell_type": "code",
   "execution_count": 3,
   "id": "0425b8a4",
   "metadata": {},
   "outputs": [],
   "source": [
    "from typing_extensions import TypedDict\n",
    "from typing import Literal\n",
    "from pydantic import BaseModel, Field\n",
    "from langgraph.graph import StateGraph, START, END\n",
    "from langchain_openai import ChatOpenAI\n",
    "from langchain_core.prompts import ChatPromptTemplate\n",
    "from IPython.display import Image, display"
   ]
  },
  {
   "cell_type": "code",
   "execution_count": null,
   "id": "56bb6bd5",
   "metadata": {},
   "outputs": [],
   "source": [
    "class AgentState(TypedDict):\n",
    "    query: str # 사용자 질문\n",
    "    answer: str # 세율\n",
    "    tax_base_equation: str # 과세표준 계산 수식 \n",
    "    tax_deduction: str # 공제액 \n",
    "    market_ratio: str # 공정시장가액비율\n",
    "    tax_base: str # 과세표준 계산"
   ]
  },
  {
   "cell_type": "code",
   "execution_count": 5,
   "id": "705f560b",
   "metadata": {},
   "outputs": [],
   "source": [
    "class Route(BaseModel):\n",
    "    target: Literal['income_tax', 'real_estate_tax', 'basic_llm', 'web_search'] = Field(\n",
    "        description=\"사용자 질문을 처리할 적절한 경로\"\n",
    "    )"
   ]
  },
  {
   "cell_type": "code",
   "execution_count": 6,
   "id": "891d5c68",
   "metadata": {},
   "outputs": [],
   "source": [
    "router_system_prompt = \"\"\"\n",
    "당신은 세금 전문가 질문 라우터입니다.\n",
    "사용자의 질문을 다음 중 어디로 보낼지 판단하세요:\n",
    "- 'income_tax': 소득세 관련 질문\n",
    "- 'real_estate_tax': 부동산세 관련 질문\n",
    "- 'basic_llm': 단순 질의 (벡터 검색 필요 없음)\n",
    "- 'web_search': 최신 정보 필요할 때\n",
    "\"\"\"\n",
    "\n",
    "router_prompt = ChatPromptTemplate.from_messages(\n",
    "    [\n",
    "        (\"system\", router_system_prompt),\n",
    "        (\"human\", \"{query}\")\n",
    "    ]\n",
    ")\n",
    "\n",
    "router_llm = ChatOpenAI(model=\"gpt-4o-mini\")\n",
    "structured_router_llm = router_llm.with_structured_output(Route)"
   ]
  },
  {
   "cell_type": "code",
   "execution_count": 7,
   "id": "507b6457",
   "metadata": {},
   "outputs": [],
   "source": [
    "# ===== 라우터 함수 =====\n",
    "def router(state: AgentState) -> Literal['income_tax', 'real_estate_tax', 'basic_llm', 'web_search']:\n",
    "    query = state['query']\n",
    "    route_chain = router_prompt | structured_router_llm\n",
    "    route = route_chain.invoke({\"query\": query})\n",
    "    print(\"선택된 경로:\", route.target)\n",
    "    return route.target\n",
    "\n",
    "\n",
    "# ===== 노드 함수 정의 =====\n",
    "def income_tax_agent(state: AgentState) -> AgentState:\n",
    "    \"\"\"소득세 관련 질문 처리\"\"\"\n",
    "    state['answer'] = \"소득세 계산 결과입니다.\"\n",
    "    return state\n",
    "\n",
    "\n",
    "def real_estate_tax_agent(state: AgentState) -> AgentState:\n",
    "    \"\"\"부동산세 관련 질문 처리\"\"\"\n",
    "    state['answer'] = \"부동산세 계산 결과입니다.\"\n",
    "    return state\n",
    "\n",
    "\n",
    "def basic_llm(state: AgentState) -> AgentState:\n",
    "    \"\"\"단순한 일반 질문 처리\"\"\"\n",
    "    state['answer'] = \"단순 질문에 대한 답변입니다.\"\n",
    "    return state\n",
    "\n",
    "\n",
    "def web_search(state: AgentState) -> AgentState:\n",
    "    \"\"\"\n",
    "    웹 검색을 통해 주택 공시가격/공정시장가액비율 등 최신 정보를 가져옴\n",
    "    node 함수로 동작하므로 state를 받지만, 내부적으로는 검색만 수행\n",
    "    \"\"\"\n",
    "    state['market_ratio'] = \"웹 검색을 통해 가져온 공정시장가액비율 예시값\"\n",
    "    return state\n",
    "\n",
    "\n",
    "def web_generate(state: AgentState) -> AgentState:\n",
    "    \"\"\"웹 검색 결과를 바탕으로 최종 답변 생성\"\"\"\n",
    "    state['answer'] = f\"웹 검색 기반 최종 답변입니다. (시장비율: {state.get('market_ratio', '없음')})\"\n",
    "    return state"
   ]
  },
  {
   "cell_type": "code",
   "execution_count": 8,
   "id": "3ffe0049",
   "metadata": {},
   "outputs": [
    {
     "data": {
      "text/plain": [
       "<langgraph.graph.state.StateGraph at 0x1a18e934e50>"
      ]
     },
     "execution_count": 8,
     "metadata": {},
     "output_type": "execute_result"
    }
   ],
   "source": [
    "graph_builder = StateGraph(AgentState)\n",
    "\n",
    "graph_builder.add_node(\"income_tax\", income_tax_agent)\n",
    "graph_builder.add_node(\"real_estate_tax\", real_estate_tax_agent)\n",
    "graph_builder.add_node(\"basic_llm\", basic_llm)\n",
    "graph_builder.add_node(\"web_search\", web_search)\n",
    "graph_builder.add_node(\"web_generate\", web_generate)"
   ]
  },
  {
   "cell_type": "code",
   "execution_count": 9,
   "id": "4ed15932",
   "metadata": {},
   "outputs": [],
   "source": [
    "# 조건부 라우팅\n",
    "graph_builder.add_conditional_edges(\n",
    "    START,\n",
    "    router,\n",
    "    {\n",
    "        \"income_tax\": \"income_tax\",\n",
    "        \"real_estate_tax\": \"real_estate_tax\",\n",
    "        \"basic_llm\": \"basic_llm\",\n",
    "        \"web_search\": \"web_search\",\n",
    "    }\n",
    ")\n",
    "\n",
    "# 웹 검색 후 generate 연결\n",
    "graph_builder.add_edge(\"web_search\", \"web_generate\")\n",
    "\n",
    "# 종료 지점 연결\n",
    "graph_builder.add_edge(\"income_tax\", END)\n",
    "graph_builder.add_edge(\"real_estate_tax\", END)\n",
    "graph_builder.add_edge(\"basic_llm\", END)\n",
    "graph_builder.add_edge(\"web_generate\", END)\n",
    "\n",
    "# 그래프 완성\n",
    "graph = graph_builder.compile()"
   ]
  },
  {
   "cell_type": "code",
   "execution_count": 10,
   "id": "eb0779d2",
   "metadata": {},
   "outputs": [
    {
     "data": {
      "image/png": "[encoded data removed]",
      "text/plain": [
       "<IPython.core.display.Image object>"
      ]
     },
     "metadata": {},
     "output_type": "display_data"
    }
   ],
   "source": [
    "display(Image(graph.get_graph().draw_mermaid_png()))"
   ]
  },
  {
   "cell_type": "code",
   "execution_count": 12,
   "id": "f4d8e1f2",
   "metadata": {},
   "outputs": [
    {
     "name": "stdout",
     "output_type": "stream",
     "text": [
      "선택된 경로: income_tax\n",
      "{'query': '연봉 5000만원이면 소득세가 얼마야?', 'answer': '소득세 계산 결과입니다.'}\n"
     ]
    }
   ],
   "source": [
    "# 소득세 관련 질문\n",
    "initial_state = {\"query\": \"연봉 5000만원이면 소득세가 얼마야?\"}\n",
    "result = graph.invoke(initial_state)\n",
    "print(result)\n"
   ]
  },
  {
   "cell_type": "code",
   "execution_count": 13,
   "id": "d7b175c0",
   "metadata": {},
   "outputs": [
    {
     "name": "stdout",
     "output_type": "stream",
     "text": [
      "선택된 경로: real_estate_tax\n",
      "{'query': '서울에 아파트 2채 있을 때 부동산세가 얼마나 나와?', 'answer': '부동산세 계산 결과입니다.'}\n"
     ]
    }
   ],
   "source": [
    "#부동산세 관련 질문\n",
    "\n",
    "initial_state = {\"query\": \"서울에 아파트 2채 있을 때 부동산세가 얼마나 나와?\"}\n",
    "result = graph.invoke(initial_state)\n",
    "print(result)\n"
   ]
  },
  {
   "cell_type": "code",
   "execution_count": 14,
   "id": "9d5d456a",
   "metadata": {},
   "outputs": [
    {
     "name": "stdout",
     "output_type": "stream",
     "text": [
      "선택된 경로: basic_llm\n",
      "{'query': '대한민국 수도는 어디야?', 'answer': '단순 질문에 대한 답변입니다.'}\n"
     ]
    }
   ],
   "source": [
    "# 웹 서치 필요없는 단순 질문\n",
    "\n",
    "initial_state = {\"query\": \"대한민국 수도는 어디야?\"}\n",
    "result = graph.invoke(initial_state)\n",
    "print(result)"
   ]
  },
  {
   "cell_type": "code",
   "execution_count": 15,
   "id": "9764537f",
   "metadata": {},
   "outputs": [
    {
     "name": "stdout",
     "output_type": "stream",
     "text": [
      "선택된 경로: web_search\n",
      "{'query': '올해 주택 공시가격 기준 공정시장가액비율 알려줘', 'answer': '웹 검색 기반 최종 답변입니다. (시장비율: 웹 검색을 통해 가져온 공정시장가액비율 예시값)', 'market_ratio': '웹 검색을 통해 가져온 공정시장가액비율 예시값'}\n"
     ]
    }
   ],
   "source": [
    "# 웹 서치 필요한 질문\n",
    "\n",
    "initial_state = {\"query\": \"올해 주택 공시가격 기준 공정시장가액비율 알려줘\"}\n",
    "result = graph.invoke(initial_state)\n",
    "print(result)"
   ]
  },
  {
   "cell_type": "code",
   "execution_count": null,
   "id": "0044db8e",
   "metadata": {},
   "outputs": [],
   "source": []
  }
 ],
 "metadata": {
  "kernelspec": {
   "display_name": "uv-work",
   "language": "python",
   "name": "python3"
  },
  "language_info": {
   "codemirror_mode": {
    "name": "ipython",
    "version": 3
   },
   "file_extension": ".py",
   "mimetype": "text/x-python",
   "name": "python",
   "nbconvert_exporter": "python",
   "pygments_lexer": "ipython3",
   "version": "3.11.9"
  }
 },
 "nbformat": 4,
 "nbformat_minor": 5
}
